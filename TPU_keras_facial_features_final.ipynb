{
  "nbformat": 4,
  "nbformat_minor": 0,
  "metadata": {
    "colab": {
      "name": "TPU-keras-facial-features-final",
      "provenance": [],
      "collapsed_sections": [],
      "include_colab_link": true
    },
    "kernelspec": {
      "name": "python3",
      "display_name": "Python 3"
    },
    "accelerator": "TPU"
  },
  "cells": [
    {
      "cell_type": "markdown",
      "metadata": {
        "id": "view-in-github",
        "colab_type": "text"
      },
      "source": [
        "<a href=\"https://colab.research.google.com/github/dataSci-rigo/facial_feature_estimation_from_scratch/blob/master/TPU_keras_facial_features_final.ipynb\" target=\"_parent\"><img src=\"https://colab.research.google.com/assets/colab-badge.svg\" alt=\"Open In Colab\"/></a>"
      ]
    },
    {
      "cell_type": "code",
      "metadata": {
        "id": "siY3qelwkGpA",
        "colab_type": "code",
        "outputId": "e294be3a-76ae-4209-de3f-6e9b160903bf",
        "colab": {
          "base_uri": "https://localhost:8080/",
          "height": 52
        }
      },
      "source": [
        "import pandas as pd\n",
        "import numpy as np\n",
        "import sklearn\n",
        "import matplotlib.pyplot as plt\n",
        "!pip install pillow\n",
        "np.random.seed(0)\n",
        "import tensorflow as tf\n",
        "from  tensorflow import keras\n",
        "import keras.callbacks as callbacks\n",
        "\n",
        "from keras.callbacks import EarlyStopping "
      ],
      "execution_count": 0,
      "outputs": [
        {
          "output_type": "stream",
          "text": [
            "Requirement already satisfied: pillow in /usr/local/lib/python3.6/dist-packages (4.3.0)\n",
            "Requirement already satisfied: olefile in /usr/local/lib/python3.6/dist-packages (from pillow) (0.46)\n"
          ],
          "name": "stdout"
        }
      ]
    },
    {
      "cell_type": "code",
      "metadata": {
        "id": "OsfXDLB76OLx",
        "colab_type": "code",
        "colab": {}
      },
      "source": [
        "!pip install -U -q PyDrive\n",
        "from pydrive.auth import GoogleAuth\n",
        "from pydrive.drive import GoogleDrive\n",
        "from google.colab import auth\n",
        "from oauth2client.client import GoogleCredentials\n",
        "# Authenticate and create the PyDrive client.\n",
        "auth.authenticate_user()\n",
        "gauth = GoogleAuth()\n",
        "gauth.credentials = GoogleCredentials.get_application_default()\n",
        "drive = GoogleDrive(gauth)\n",
        "#drive=GoogleDrive(4/iQEapMjjZP0ngyzZdGQsb1VhT8Hy3GEhw3R3CHr4yo4GFPHi08aFUUk)"
      ],
      "execution_count": 0,
      "outputs": []
    },
    {
      "cell_type": "code",
      "metadata": {
        "id": "TcP_9q5m6Plm",
        "colab_type": "code",
        "colab": {}
      },
      "source": [
        "test_shareable_link=\"https://drive.google.com/file/d/1HB3mJo_2EVewP9oqHtlcDCfw6y01om63/view?usp=sharing\"\n",
        "train_shareable_link='https://drive.google.com/file/d/1DiE4w94eJDEXxn87npDd5o6Y3QFdzzIU/view?usp=sharing'\n",
        "\n",
        "test_csv_link = 'https://drive.google.com/open?id=1HB3mJo_2EVewP9oqHtlcDCfw6y01om63' # shareable link\n",
        "train_csv_link = 'https://drive.google.com/open?id=1DiE4w94eJDEXxn87npDd5o6Y3QFdzzIU' # shareable link\n",
        "\n",
        "_, test_id = test_csv_link.split('=')\n",
        "_, train_id = train_csv_link.split('=')\n",
        "# print (test_id) # Verify that you have everything after '='\n",
        "# print (train_id) # Verify that you have everything after '='\n",
        "\n",
        "downloaded_test = drive.CreateFile({'id':test_id})\n",
        "downloaded_train = drive.CreateFile({'id':train_id}) \n",
        "downloaded_test.GetContentFile('test.csv')\n",
        "downloaded_train.GetContentFile('train.csv')"
      ],
      "execution_count": 0,
      "outputs": []
    },
    {
      "cell_type": "markdown",
      "metadata": {
        "id": "C_uGIBZMBHy0",
        "colab_type": "text"
      },
      "source": [
        "# **EDA**"
      ]
    },
    {
      "cell_type": "code",
      "metadata": {
        "id": "ZZLblk3E7in5",
        "colab_type": "code",
        "outputId": "b928f714-3ed2-4ba6-d49e-bab75dea7407",
        "colab": {
          "base_uri": "https://localhost:8080/",
          "height": 50
        }
      },
      "source": [
        "train_df = pd.read_csv('train.csv')\n",
        "test_df = pd.read_csv('test.csv')\n",
        "print(\"train shape: {}\".format(train_df.shape))\n",
        "print(\"test shape: {}\".format(test_df.shape))\n",
        "\n",
        "# Convert Image from string to np array of floats between 0 and 1\n",
        "train_df.Image = train_df.Image.apply(lambda x: np.array(object=x.split(' '), \n",
        "                                                         dtype=float)) / 255\n",
        "test_df.Image = test_df.Image.apply(lambda x: np.array(object=x.split(' '), \n",
        "                                                       dtype=float)) / 255"
      ],
      "execution_count": 0,
      "outputs": [
        {
          "output_type": "stream",
          "text": [
            "train shape: (7049, 31)\n",
            "test shape: (1783, 2)\n"
          ],
          "name": "stdout"
        }
      ]
    },
    {
      "cell_type": "code",
      "metadata": {
        "id": "If-Itcpgmm_j",
        "colab_type": "code",
        "colab": {}
      },
      "source": [
        "#!pip install impyute\n",
        "#from impyute.imputation.cs import mice\n",
        "\n",
        "# start the MICE training\n",
        "\n",
        "#imputed_training_mice=mice(train_features_cnn.astype(float))\n",
        "\n"
      ],
      "execution_count": 0,
      "outputs": []
    },
    {
      "cell_type": "code",
      "metadata": {
        "id": "H1PeYv9xnIiV",
        "colab_type": "code",
        "colab": {}
      },
      "source": [
        "def plot_test_multiple(predicted_points,image, pics):\n",
        "  '''shows predicted features on image\n",
        "  \n",
        "  requires:\n",
        "  - test_images'''\n",
        "  x_points = []\n",
        "  y_points = []\n",
        "\n",
        "  # split into x coords and y coords\n",
        "  \n",
        "  for index, pic in enumerate(pics):\n",
        "    for i in range(15):\n",
        "      x_points.append(predicted_points[pic][i*2])\n",
        "      y_points.append(predicted_points[pic][i*2+1])\n",
        "\n",
        "    ax = plt.subplot(1,len(pics),index+1)\n",
        "    ax.imshow(image[pic].reshape(96,96),cmap='gray')\n",
        "    ax.scatter(x=x_points, y=y_points, c='r', s=20)"
      ],
      "execution_count": 0,
      "outputs": []
    },
    {
      "cell_type": "markdown",
      "metadata": {
        "id": "XWqUK1aCtbdg",
        "colab_type": "text"
      },
      "source": [
        "## **Forward Fill Missing Data**\n",
        "\n",
        "Since the data has multiple columns of missing information we are going to input them using the forward fill method."
      ]
    },
    {
      "cell_type": "code",
      "metadata": {
        "id": "kvx7laOFtgrb",
        "colab_type": "code",
        "colab": {}
      },
      "source": [
        "\n",
        "\n",
        "train_images_dirty=np.concatenate(np.array(train_df.Image.values)).ravel().reshape(train_df.shape[0],96,96,1)\n",
        "train_features_dirty=np.array(train_df.values)[:,0:30]\n",
        "\n",
        "train_df_clean=train_df.dropna(axis=0, how='any', thresh=None, subset=None, inplace=False)\n",
        "test_df_clean=test_df.dropna(axis=0, how='any', thresh=None, subset=None, inplace=False)\n",
        "train_images_clean=np.concatenate(np.array(train_df_clean.Image.values)).ravel().reshape(train_df_clean.shape[0],96,96,1)\n",
        "train_features_clean=np.array(train_df_clean.values)[:,0:30]\n",
        "\n",
        "#\"There may be regression problems in which the target value has a spread of values and when predicting a large value, you may not want to punish a model as heavily as mean squared error.\"\n",
        "# 'mean_squared_logarithmic_error'\n",
        "\n",
        "'''DataFrame.fillna(self, value=None, method=None, axis=None, inplace=False, limit=None, downcast=None, **kwargs)'''\n",
        "train_df_neg=train_df.fillna(value=0)\n",
        "test_df_neg=test_df.fillna(value=0)\n",
        "test_images_zero=np.concatenate(np.array(test_df_neg[\"Image\"].values)).ravel().reshape(test_df_neg.shape[0],96,96,1)\n",
        "train_images_zero=np.concatenate(np.array(train_df_neg.Image.values)).ravel().reshape(train_df_neg.shape[0],96,96,1)\n",
        "train_features_zero=np.array(train_df_neg.values)[:,0:30]\n",
        "\n"
      ],
      "execution_count": 0,
      "outputs": []
    },
    {
      "cell_type": "code",
      "metadata": {
        "id": "Un88YdXRG3jn",
        "colab_type": "code",
        "outputId": "adaa9d61-f700-4cf4-ebdb-0e35f6ad5d1f",
        "colab": {
          "base_uri": "https://localhost:8080/",
          "height": 205
        }
      },
      "source": [
        "image=[2289,2284]; plot_test_multiple(train_features_dirty,train_images_dirty, image)\n"
      ],
      "execution_count": 0,
      "outputs": [
        {
          "output_type": "display_data",
          "data": {
            "image/png": "[encoded data removed]",
            "text/plain": [
              "<Figure size 432x288 with 2 Axes>"
            ]
          },
          "metadata": {
            "tags": []
          }
        }
      ]
    },
    {
      "cell_type": "markdown",
      "metadata": {
        "id": "C4_F9ybDs828",
        "colab_type": "text"
      },
      "source": [
        "# **Split train into train/dev sets**"
      ]
    },
    {
      "cell_type": "markdown",
      "metadata": {
        "id": "izCfhrGutX7i",
        "colab_type": "text"
      },
      "source": [
        "# **keras Model**\n"
      ]
    },
    {
      "cell_type": "markdown",
      "metadata": {
        "id": "RCFy4bkJIimm",
        "colab_type": "text"
      },
      "source": [
        "### keras Model"
      ]
    },
    {
      "cell_type": "code",
      "metadata": {
        "id": "GUKU13Pt8Jvu",
        "colab_type": "code",
        "outputId": "574a4ec6-1200-4df0-c986-406c9091433e",
        "colab": {
          "base_uri": "https://localhost:8080/",
          "height": 33
        }
      },
      "source": [
        "#!pip install pyyaml\n",
        "#!pip install tensorflow --upgrade\n",
        "import tensorflow as tf\n",
        "from __future__ import absolute_import, division, print_function, unicode_literals\n",
        "print(tf.reduce_sum(tf.random.normal([1000, 1000])))\n",
        "#! pip install keras --upgrade\n",
        "\n",
        "from tensorflow.keras.models import save_model, load_model\n",
        "#save_model(model,'124446.model')\n",
        "from tensorflow.keras import layers\n",
        "from tensorflow.keras import Model\n",
        "\n",
        "\n",
        "from google.colab import files\n",
        "from tensorflow.keras import callbacks"
      ],
      "execution_count": 0,
      "outputs": [
        {
          "output_type": "stream",
          "text": [
            "Tensor(\"Sum:0\", shape=(), dtype=float32)\n"
          ],
          "name": "stdout"
        }
      ]
    },
    {
      "cell_type": "code",
      "metadata": {
        "id": "SLKrM1d_fbyX",
        "colab_type": "code",
        "outputId": "b9a05e2f-3f7b-41b6-9478-b0275f712544",
        "colab": {
          "base_uri": "https://localhost:8080/",
          "height": 733
        }
      },
      "source": [
        "%pip install tensorflow==1.13.1"
      ],
      "execution_count": 0,
      "outputs": [
        {
          "output_type": "stream",
          "text": [
            "Collecting tensorflow==1.13.1\n",
            "\u001b[?25l  Downloading https://files.pythonhosted.org/packages/77/63/a9fa76de8dffe7455304c4ed635be4aa9c0bacef6e0633d87d5f54530c5c/tensorflow-1.13.1-cp36-cp36m-manylinux1_x86_64.whl (92.5MB)\n",
            "\u001b[K     |████████████████████████████████| 92.5MB 282kB/s \n",
            "\u001b[?25hCollecting tensorboard<1.14.0,>=1.13.0 (from tensorflow==1.13.1)\n",
            "\u001b[?25l  Downloading https://files.pythonhosted.org/packages/0f/39/bdd75b08a6fba41f098b6cb091b9e8c7a80e1b4d679a581a0ccd17b10373/tensorboard-1.13.1-py3-none-any.whl (3.2MB)\n",
            "\u001b[K     |████████████████████████████████| 3.2MB 36.8MB/s \n",
            "\u001b[?25hCollecting tensorflow-estimator<1.14.0rc0,>=1.13.0 (from tensorflow==1.13.1)\n",
            "\u001b[?25l  Downloading https://files.pythonhosted.org/packages/bb/48/13f49fc3fa0fdf916aa1419013bb8f2ad09674c275b4046d5ee669a46873/tensorflow_estimator-1.13.0-py2.py3-none-any.whl (367kB)\n",
            "\u001b[K     |████████████████████████████████| 368kB 48.8MB/s \n",
            "\u001b[?25hRequirement already satisfied: termcolor>=1.1.0 in /usr/local/lib/python3.6/dist-packages (from tensorflow==1.13.1) (1.1.0)\n",
            "Requirement already satisfied: gast>=0.2.0 in /usr/local/lib/python3.6/dist-packages (from tensorflow==1.13.1) (0.2.2)\n",
            "Requirement already satisfied: keras-preprocessing>=1.0.5 in /usr/local/lib/python3.6/dist-packages (from tensorflow==1.13.1) (1.1.0)\n",
            "Requirement already satisfied: numpy>=1.13.3 in /usr/local/lib/python3.6/dist-packages (from tensorflow==1.13.1) (1.16.4)\n",
            "Requirement already satisfied: wheel>=0.26 in /usr/local/lib/python3.6/dist-packages (from tensorflow==1.13.1) (0.33.4)\n",
            "Requirement already satisfied: six>=1.10.0 in /usr/local/lib/python3.6/dist-packages (from tensorflow==1.13.1) (1.12.0)\n",
            "Requirement already satisfied: protobuf>=3.6.1 in /usr/local/lib/python3.6/dist-packages (from tensorflow==1.13.1) (3.7.1)\n",
            "Requirement already satisfied: absl-py>=0.1.6 in /usr/local/lib/python3.6/dist-packages (from tensorflow==1.13.1) (0.7.1)\n",
            "Requirement already satisfied: grpcio>=1.8.6 in /usr/local/lib/python3.6/dist-packages (from tensorflow==1.13.1) (1.15.0)\n",
            "Requirement already satisfied: astor>=0.6.0 in /usr/local/lib/python3.6/dist-packages (from tensorflow==1.13.1) (0.8.0)\n",
            "Requirement already satisfied: keras-applications>=1.0.6 in /usr/local/lib/python3.6/dist-packages (from tensorflow==1.13.1) (1.0.8)\n",
            "Requirement already satisfied: werkzeug>=0.11.15 in /usr/local/lib/python3.6/dist-packages (from tensorboard<1.14.0,>=1.13.0->tensorflow==1.13.1) (0.15.5)\n",
            "Requirement already satisfied: markdown>=2.6.8 in /usr/local/lib/python3.6/dist-packages (from tensorboard<1.14.0,>=1.13.0->tensorflow==1.13.1) (3.1.1)\n",
            "Collecting mock>=2.0.0 (from tensorflow-estimator<1.14.0rc0,>=1.13.0->tensorflow==1.13.1)\n",
            "  Downloading https://files.pythonhosted.org/packages/05/d2/f94e68be6b17f46d2c353564da56e6fb89ef09faeeff3313a046cb810ca9/mock-3.0.5-py2.py3-none-any.whl\n",
            "Requirement already satisfied: setuptools in /usr/local/lib/python3.6/dist-packages (from protobuf>=3.6.1->tensorflow==1.13.1) (41.2.0)\n",
            "Requirement already satisfied: h5py in /usr/local/lib/python3.6/dist-packages (from keras-applications>=1.0.6->tensorflow==1.13.1) (2.8.0)\n",
            "\u001b[31mERROR: tensorflow-gpu 1.14.0 has requirement tensorboard<1.15.0,>=1.14.0, but you'll have tensorboard 1.13.1 which is incompatible.\u001b[0m\n",
            "\u001b[31mERROR: tensorflow-gpu 1.14.0 has requirement tensorflow-estimator<1.15.0rc0,>=1.14.0rc0, but you'll have tensorflow-estimator 1.13.0 which is incompatible.\u001b[0m\n",
            "Installing collected packages: tensorboard, mock, tensorflow-estimator, tensorflow\n",
            "  Found existing installation: tensorboard 1.14.0\n",
            "    Uninstalling tensorboard-1.14.0:\n",
            "      Successfully uninstalled tensorboard-1.14.0\n",
            "  Found existing installation: tensorflow-estimator 1.14.0\n",
            "    Uninstalling tensorflow-estimator-1.14.0:\n",
            "      Successfully uninstalled tensorflow-estimator-1.14.0\n",
            "  Found existing installation: tensorflow 1.14.0\n",
            "    Uninstalling tensorflow-1.14.0:\n",
            "      Successfully uninstalled tensorflow-1.14.0\n",
            "Successfully installed mock-3.0.5 tensorboard-1.13.1 tensorflow-1.13.1 tensorflow-estimator-1.13.0\n"
          ],
          "name": "stdout"
        },
        {
          "output_type": "display_data",
          "data": {
            "application/vnd.colab-display-data+json": {
              "pip_warning": {
                "packages": [
                  "tensorboard",
                  "tensorflow",
                  "tensorflow_estimator"
                ]
              }
            }
          },
          "metadata": {
            "tags": []
          }
        }
      ]
    },
    {
      "cell_type": "code",
      "metadata": {
        "id": "hpNnclPImIx3",
        "colab_type": "code",
        "colab": {}
      },
      "source": [
        "def get_Model():\n",
        "  inputs=layers.Input(shape=(96, 96, 1))\n",
        "  batch=layers.BatchNormalization(input_shape=(96, 96, 1))(inputs)\n",
        "  layer1_1=layers.Conv2D(24, (5, 5), padding=\"same\", kernel_initializer='he_normal', activation='relu', input_shape=(96, 96, 1),data_format=\"channels_last\")(batch)\n",
        "  layer1_2=layers.MaxPooling2D(pool_size=(2, 2), strides=(2, 2), padding='valid')(layer1_1)\n",
        "\n",
        "  layer2_1=layers.Conv2D(36,(5,5), activation='relu')(layer1_2)\n",
        "  layer2_2=layers.MaxPooling2D(pool_size=(2, 2), strides=(2, 2), padding='valid')(layer2_1)\n",
        "\n",
        "  layer3_1=layers.Conv2D(48,(5,5) , activation='relu')(layer2_2)\n",
        "  layer3_2=layers.MaxPooling2D(pool_size=(2, 2), strides=(2, 2), padding='valid')(layer3_1)\n",
        "\n",
        "  layer4_1=layers.Conv2D(64,(3,3) , activation='relu')(layer3_2)\n",
        "  layer4_2=layers.MaxPooling2D(pool_size=(2, 2), strides=(2, 2), padding='valid')(layer4_1)\n",
        "\n",
        "  layer5_1=layers.Conv2D(64,(3,3), activation='relu')(layer4_2)\n",
        "  layer5_2=layers.GlobalAveragePooling2D()(layer5_1)\n",
        "\n",
        "  layerD_1=layers.Dense(500, activation='relu')(layer5_2)\n",
        "  layerD_2=layers.Dense(90, activation='relu')(layerD_1)\n",
        "  out=layers.Dense(30)(layerD_2)\n",
        " \n",
        "  return Model(inputs=inputs,outputs=out)"
      ],
      "execution_count": 0,
      "outputs": []
    },
    {
      "cell_type": "code",
      "metadata": {
        "id": "1VVwVA3-51J_",
        "colab_type": "code",
        "colab": {}
      },
      "source": [
        "def get_sequential_model():\n",
        "  model = layers.Sequential([\n",
        "\n",
        "  layers.BatchNormalization(input_shape=(96, 96, 1)),\n",
        "  layers.Conv2D(24, (5, 5), padding=\"same\", kernel_initializer='he_normal', activation='relu', input_shape=(96, 96, 1),data_format=\"channels_last\"),\n",
        "  layers.MaxPooling2D(pool_size=(2, 2), strides=(2, 2), padding='valid'),\n",
        "\n",
        "  layers.Conv2D(36,(5,5), activation='relu'),\n",
        "  layers.MaxPooling2D(pool_size=(2, 2), strides=(2, 2), padding='valid'),\n",
        "\n",
        "  layers.Conv2D(48,(5,5) , activation='relu'),\n",
        "  layers.MaxPooling2D(pool_size=(2, 2), strides=(2, 2), padding='valid'),\n",
        "\n",
        "  layers.Conv2D(64,(3,3) , activation='relu'),\n",
        "  layers.MaxPooling2D(pool_size=(2, 2), strides=(2, 2), padding='valid'),\n",
        "\n",
        "  layers.Conv2D(64,(3,3), activation='relu') ,\n",
        "  layers.GlobalAveragePooling2D(),\n",
        "\n",
        "  layers.Dense(500, activation='relu'),\n",
        "  layers.Dense(90, activation='relu'),\n",
        "  layers.Dense(30)\n",
        "  ])\n",
        "  return model"
      ],
      "execution_count": 0,
      "outputs": []
    },
    {
      "cell_type": "code",
      "metadata": {
        "id": "13-MxyaiIueX",
        "colab_type": "code",
        "outputId": "d4600e15-2a54-4cbc-9479-081eccc25306",
        "colab": {
          "base_uri": "https://localhost:8080/",
          "height": 1000
        }
      },
      "source": [
        "model_drop_na=get_Model()\n",
        "Adam=tf.train.AdamOptimizer(0.001)\n",
        "#(lr=0.001, beta_1=0.9, beta_2=0.999, epsilon=None, decay=0.0, amsgrad=False)\n",
        "\n",
        "file_checkpoint_name='face_model-adam-mse-lr001-dropna.h5'\n",
        "\n",
        "model_drop_na.compile(optimizer=Adam, loss='mean_squared_error', metrics=['acc','mse'])\n",
        "\n",
        "\n",
        "checkpointer = callbacks.ModelCheckpoint(filepath=file_checkpoint_name, verbose=1, save_best_only=True)\n",
        "\n",
        "epochs = 30\n",
        "history=model_drop_na.fit(train_images_clean, train_features_clean,  validation_split=0.2, batch_size=32,epochs=epochs, callbacks=[checkpointer], verbose=1)\n",
        "#history = model_drop_na.fit(train_images_clean, train_features_clean, validation_split=0.2, shuffle=True, epochs=epochs, batch_size=30, callbacks=[checkpointer], verbose=1)\n",
        "\n",
        "#files.download(file_checkpoint_name) "
      ],
      "execution_count": 0,
      "outputs": [
        {
          "output_type": "stream",
          "text": [
            "W0826 22:17:19.473939 140326085265280 deprecation.py:506] From /usr/local/lib/python3.6/dist-packages/tensorflow/python/ops/init_ops.py:1251: calling VarianceScaling.__init__ (from tensorflow.python.ops.init_ops) with dtype is deprecated and will be removed in a future version.\n",
            "Instructions for updating:\n",
            "Call initializer instance with the dtype argument instead of passing it to the constructor\n"
          ],
          "name": "stderr"
        },
        {
          "output_type": "stream",
          "text": [
            "Train on 1712 samples, validate on 428 samples\n",
            "Epoch 1/30\n",
            "1696/1712 [============================>.] - ETA: 0s - loss: 549.1911 - acc: 0.4251 - mean_squared_error: 549.1909"
          ],
          "name": "stdout"
        },
        {
          "output_type": "stream",
          "text": [
            "W0826 22:17:54.466754 140326085265280 hdf5_format.py:110] TensorFlow optimizers do not make it possible to access optimizer attributes or optimizer state after instantiation. As a result, we cannot save the optimizer as part of the model save file. You will have to compile your model again after loading it. Prefer using a Keras optimizer instead (see keras.io/optimizers).\n"
          ],
          "name": "stderr"
        },
        {
          "output_type": "stream",
          "text": [
            "\n",
            "Epoch 00001: val_loss improved from inf to 1119.43298, saving model to face_model-adam-mse-lr001-dropna.h5\n",
            "\b\b\b\b\b\b\b\b\b\b\b\b\b\b\b\b\b\b\b\b\b\b\b\b\b\b\b\b\b\b\b\b\b\b\b\b\b\b\b\b\b\b\b\b\b\b\b\b\b\b\b\b\b\b\b\b\b\b\b\b\b\b\b\b\b\b\b\b\b\b\b\b\b\b\b\b\b\b\b\b\b\b\b\b\b\b\b\b\b\b\b\b\b\b\b\b\b\b\b\b\b\b\b\b\b\b\b\b\b\b\b\b\b\b\r1712/1712 [==============================] - 34s 20ms/sample - loss: 544.9757 - acc: 0.4276 - mean_squared_error: 544.9755 - val_loss: 1119.4330 - val_acc: 0.4322 - val_mean_squared_error: 1119.4330\n",
            "Epoch 2/30\n",
            "1696/1712 [============================>.] - ETA: 0s - loss: 93.0681 - acc: 0.7730 - mean_squared_error: 93.0681"
          ],
          "name": "stdout"
        },
        {
          "output_type": "stream",
          "text": [
            "W0826 22:18:28.702998 140326085265280 hdf5_format.py:110] TensorFlow optimizers do not make it possible to access optimizer attributes or optimizer state after instantiation. As a result, we cannot save the optimizer as part of the model save file. You will have to compile your model again after loading it. Prefer using a Keras optimizer instead (see keras.io/optimizers).\n"
          ],
          "name": "stderr"
        },
        {
          "output_type": "stream",
          "text": [
            "\n",
            "Epoch 00002: val_loss improved from 1119.43298 to 757.78213, saving model to face_model-adam-mse-lr001-dropna.h5\n",
            "\b\b\b\b\b\b\b\b\b\b\b\b\b\b\b\b\b\b\b\b\b\b\b\b\b\b\b\b\b\b\b\b\b\b\b\b\b\b\b\b\b\b\b\b\b\b\b\b\b\b\b\b\b\b\b\b\b\b\b\b\b\b\b\b\b\b\b\b\b\b\b\b\b\b\b\b\b\b\b\b\b\b\b\b\b\b\b\b\b\b\b\b\b\b\b\b\b\b\b\b\b\b\b\b\b\b\b\b\b\b\b\b\r1712/1712 [==============================] - 34s 20ms/sample - loss: 92.7270 - acc: 0.7734 - mean_squared_error: 92.7270 - val_loss: 757.7821 - val_acc: 0.4322 - val_mean_squared_error: 757.7820\n",
            "Epoch 3/30\n",
            "1696/1712 [============================>.] - ETA: 0s - loss: 72.8246 - acc: 0.7742 - mean_squared_error: 72.8246"
          ],
          "name": "stdout"
        },
        {
          "output_type": "stream",
          "text": [
            "W0826 22:19:02.841443 140326085265280 hdf5_format.py:110] TensorFlow optimizers do not make it possible to access optimizer attributes or optimizer state after instantiation. As a result, we cannot save the optimizer as part of the model save file. You will have to compile your model again after loading it. Prefer using a Keras optimizer instead (see keras.io/optimizers).\n"
          ],
          "name": "stderr"
        },
        {
          "output_type": "stream",
          "text": [
            "\n",
            "Epoch 00003: val_loss improved from 757.78213 to 585.10687, saving model to face_model-adam-mse-lr001-dropna.h5\n",
            "\b\b\b\b\b\b\b\b\b\b\b\b\b\b\b\b\b\b\b\b\b\b\b\b\b\b\b\b\b\b\b\b\b\b\b\b\b\b\b\b\b\b\b\b\b\b\b\b\b\b\b\b\b\b\b\b\b\b\b\b\b\b\b\b\b\b\b\b\b\b\b\b\b\b\b\b\b\b\b\b\b\b\b\b\b\b\b\b\b\b\b\b\b\b\b\b\b\b\b\b\b\b\b\b\b\b\b\b\b\b\b\b\r1712/1712 [==============================] - 34s 20ms/sample - loss: 72.9115 - acc: 0.7734 - mean_squared_error: 72.9115 - val_loss: 585.1069 - val_acc: 0.4322 - val_mean_squared_error: 585.1068\n",
            "Epoch 4/30\n",
            "1696/1712 [============================>.] - ETA: 0s - loss: 56.1148 - acc: 0.7718 - mean_squared_error: 56.1148"
          ],
          "name": "stdout"
        },
        {
          "output_type": "stream",
          "text": [
            "W0826 22:19:36.951254 140326085265280 hdf5_format.py:110] TensorFlow optimizers do not make it possible to access optimizer attributes or optimizer state after instantiation. As a result, we cannot save the optimizer as part of the model save file. You will have to compile your model again after loading it. Prefer using a Keras optimizer instead (see keras.io/optimizers).\n"
          ],
          "name": "stderr"
        },
        {
          "output_type": "stream",
          "text": [
            "\n",
            "Epoch 00004: val_loss improved from 585.10687 to 432.66493, saving model to face_model-adam-mse-lr001-dropna.h5\n",
            "\b\b\b\b\b\b\b\b\b\b\b\b\b\b\b\b\b\b\b\b\b\b\b\b\b\b\b\b\b\b\b\b\b\b\b\b\b\b\b\b\b\b\b\b\b\b\b\b\b\b\b\b\b\b\b\b\b\b\b\b\b\b\b\b\b\b\b\b\b\b\b\b\b\b\b\b\b\b\b\b\b\b\b\b\b\b\b\b\b\b\b\b\b\b\b\b\b\b\b\b\b\b\b\b\b\b\b\b\b\b\b\b\r1712/1712 [==============================] - 34s 20ms/sample - loss: 55.9938 - acc: 0.7734 - mean_squared_error: 55.9938 - val_loss: 432.6649 - val_acc: 0.4322 - val_mean_squared_error: 432.6649\n",
            "Epoch 5/30\n",
            "1696/1712 [============================>.] - ETA: 0s - loss: 46.6147 - acc: 0.7742 - mean_squared_error: 46.6147"
          ],
          "name": "stdout"
        },
        {
          "output_type": "stream",
          "text": [
            "W0826 22:20:10.943839 140326085265280 hdf5_format.py:110] TensorFlow optimizers do not make it possible to access optimizer attributes or optimizer state after instantiation. As a result, we cannot save the optimizer as part of the model save file. You will have to compile your model again after loading it. Prefer using a Keras optimizer instead (see keras.io/optimizers).\n"
          ],
          "name": "stderr"
        },
        {
          "output_type": "stream",
          "text": [
            "\n",
            "Epoch 00005: val_loss improved from 432.66493 to 409.56760, saving model to face_model-adam-mse-lr001-dropna.h5\n",
            "\b\b\b\b\b\b\b\b\b\b\b\b\b\b\b\b\b\b\b\b\b\b\b\b\b\b\b\b\b\b\b\b\b\b\b\b\b\b\b\b\b\b\b\b\b\b\b\b\b\b\b\b\b\b\b\b\b\b\b\b\b\b\b\b\b\b\b\b\b\b\b\b\b\b\b\b\b\b\b\b\b\b\b\b\b\b\b\b\b\b\b\b\b\b\b\b\b\b\b\b\b\b\b\b\b\b\b\b\b\b\b\b\r1712/1712 [==============================] - 34s 20ms/sample - loss: 46.4856 - acc: 0.7734 - mean_squared_error: 46.4856 - val_loss: 409.5676 - val_acc: 0.4322 - val_mean_squared_error: 409.5676\n",
            "Epoch 6/30\n",
            "1696/1712 [============================>.] - ETA: 0s - loss: 39.1031 - acc: 0.7730 - mean_squared_error: 39.1031"
          ],
          "name": "stdout"
        },
        {
          "output_type": "stream",
          "text": [
            "W0826 22:20:45.119473 140326085265280 hdf5_format.py:110] TensorFlow optimizers do not make it possible to access optimizer attributes or optimizer state after instantiation. As a result, we cannot save the optimizer as part of the model save file. You will have to compile your model again after loading it. Prefer using a Keras optimizer instead (see keras.io/optimizers).\n"
          ],
          "name": "stderr"
        },
        {
          "output_type": "stream",
          "text": [
            "\n",
            "Epoch 00006: val_loss improved from 409.56760 to 139.89610, saving model to face_model-adam-mse-lr001-dropna.h5\n",
            "\b\b\b\b\b\b\b\b\b\b\b\b\b\b\b\b\b\b\b\b\b\b\b\b\b\b\b\b\b\b\b\b\b\b\b\b\b\b\b\b\b\b\b\b\b\b\b\b\b\b\b\b\b\b\b\b\b\b\b\b\b\b\b\b\b\b\b\b\b\b\b\b\b\b\b\b\b\b\b\b\b\b\b\b\b\b\b\b\b\b\b\b\b\b\b\b\b\b\b\b\b\b\b\b\b\b\b\b\b\b\b\b\r1712/1712 [==============================] - 34s 20ms/sample - loss: 39.0911 - acc: 0.7734 - mean_squared_error: 39.0911 - val_loss: 139.8961 - val_acc: 0.4322 - val_mean_squared_error: 139.8961\n",
            "Epoch 7/30\n",
            "1696/1712 [============================>.] - ETA: 0s - loss: 38.0251 - acc: 0.7742 - mean_squared_error: 38.0251\n",
            "Epoch 00007: val_loss did not improve from 139.89610\n",
            "1712/1712 [==============================] - 34s 20ms/sample - loss: 38.5658 - acc: 0.7734 - mean_squared_error: 38.5658 - val_loss: 166.7467 - val_acc: 0.4322 - val_mean_squared_error: 166.7466\n",
            "Epoch 8/30\n",
            "1696/1712 [============================>.] - ETA: 0s - loss: 51.1243 - acc: 0.7742 - mean_squared_error: 51.1243"
          ],
          "name": "stdout"
        },
        {
          "output_type": "stream",
          "text": [
            "W0826 22:21:53.221958 140326085265280 hdf5_format.py:110] TensorFlow optimizers do not make it possible to access optimizer attributes or optimizer state after instantiation. As a result, we cannot save the optimizer as part of the model save file. You will have to compile your model again after loading it. Prefer using a Keras optimizer instead (see keras.io/optimizers).\n"
          ],
          "name": "stderr"
        },
        {
          "output_type": "stream",
          "text": [
            "\n",
            "Epoch 00008: val_loss improved from 139.89610 to 139.37819, saving model to face_model-adam-mse-lr001-dropna.h5\n",
            "\b\b\b\b\b\b\b\b\b\b\b\b\b\b\b\b\b\b\b\b\b\b\b\b\b\b\b\b\b\b\b\b\b\b\b\b\b\b\b\b\b\b\b\b\b\b\b\b\b\b\b\b\b\b\b\b\b\b\b\b\b\b\b\b\b\b\b\b\b\b\b\b\b\b\b\b\b\b\b\b\b\b\b\b\b\b\b\b\b\b\b\b\b\b\b\b\b\b\b\b\b\b\b\b\b\b\b\b\b\b\b\b\r1712/1712 [==============================] - 34s 20ms/sample - loss: 50.8703 - acc: 0.7734 - mean_squared_error: 50.8703 - val_loss: 139.3782 - val_acc: 0.4322 - val_mean_squared_error: 139.3782\n",
            "Epoch 9/30\n",
            "1696/1712 [============================>.] - ETA: 0s - loss: 35.6700 - acc: 0.7724 - mean_squared_error: 35.6700"
          ],
          "name": "stdout"
        },
        {
          "output_type": "stream",
          "text": [
            "W0826 22:22:27.197630 140326085265280 hdf5_format.py:110] TensorFlow optimizers do not make it possible to access optimizer attributes or optimizer state after instantiation. As a result, we cannot save the optimizer as part of the model save file. You will have to compile your model again after loading it. Prefer using a Keras optimizer instead (see keras.io/optimizers).\n"
          ],
          "name": "stderr"
        },
        {
          "output_type": "stream",
          "text": [
            "\n",
            "Epoch 00009: val_loss improved from 139.37819 to 99.75518, saving model to face_model-adam-mse-lr001-dropna.h5\n",
            "\b\b\b\b\b\b\b\b\b\b\b\b\b\b\b\b\b\b\b\b\b\b\b\b\b\b\b\b\b\b\b\b\b\b\b\b\b\b\b\b\b\b\b\b\b\b\b\b\b\b\b\b\b\b\b\b\b\b\b\b\b\b\b\b\b\b\b\b\b\b\b\b\b\b\b\b\b\b\b\b\b\b\b\b\b\b\b\b\b\b\b\b\b\b\b\b\b\b\b\b\b\b\b\b\b\b\b\b\b\b\b\b\r1712/1712 [==============================] - 34s 20ms/sample - loss: 35.4830 - acc: 0.7734 - mean_squared_error: 35.4830 - val_loss: 99.7552 - val_acc: 0.4322 - val_mean_squared_error: 99.7552\n",
            "Epoch 10/30\n",
            "1696/1712 [============================>.] - ETA: 0s - loss: 41.1456 - acc: 0.7742 - mean_squared_error: 41.1456"
          ],
          "name": "stdout"
        },
        {
          "output_type": "stream",
          "text": [
            "W0826 22:23:01.358391 140326085265280 hdf5_format.py:110] TensorFlow optimizers do not make it possible to access optimizer attributes or optimizer state after instantiation. As a result, we cannot save the optimizer as part of the model save file. You will have to compile your model again after loading it. Prefer using a Keras optimizer instead (see keras.io/optimizers).\n"
          ],
          "name": "stderr"
        },
        {
          "output_type": "stream",
          "text": [
            "\n",
            "Epoch 00010: val_loss improved from 99.75518 to 82.33314, saving model to face_model-adam-mse-lr001-dropna.h5\n",
            "\b\b\b\b\b\b\b\b\b\b\b\b\b\b\b\b\b\b\b\b\b\b\b\b\b\b\b\b\b\b\b\b\b\b\b\b\b\b\b\b\b\b\b\b\b\b\b\b\b\b\b\b\b\b\b\b\b\b\b\b\b\b\b\b\b\b\b\b\b\b\b\b\b\b\b\b\b\b\b\b\b\b\b\b\b\b\b\b\b\b\b\b\b\b\b\b\b\b\b\b\b\b\b\b\b\b\b\b\b\b\b\b\r1712/1712 [==============================] - 34s 20ms/sample - loss: 41.2507 - acc: 0.7734 - mean_squared_error: 41.2507 - val_loss: 82.3331 - val_acc: 0.4322 - val_mean_squared_error: 82.3331\n",
            "Epoch 11/30\n",
            "1696/1712 [============================>.] - ETA: 0s - loss: 32.8504 - acc: 0.7718 - mean_squared_error: 32.8504\n",
            "Epoch 00011: val_loss did not improve from 82.33314\n",
            "1712/1712 [==============================] - 34s 20ms/sample - loss: 32.7733 - acc: 0.7734 - mean_squared_error: 32.7733 - val_loss: 84.1986 - val_acc: 0.4322 - val_mean_squared_error: 84.1986\n",
            "Epoch 12/30\n",
            "1696/1712 [============================>.] - ETA: 0s - loss: 41.7956 - acc: 0.7730 - mean_squared_error: 41.7956"
          ],
          "name": "stdout"
        },
        {
          "output_type": "stream",
          "text": [
            "W0826 22:24:09.606859 140326085265280 hdf5_format.py:110] TensorFlow optimizers do not make it possible to access optimizer attributes or optimizer state after instantiation. As a result, we cannot save the optimizer as part of the model save file. You will have to compile your model again after loading it. Prefer using a Keras optimizer instead (see keras.io/optimizers).\n"
          ],
          "name": "stderr"
        },
        {
          "output_type": "stream",
          "text": [
            "\n",
            "Epoch 00012: val_loss improved from 82.33314 to 77.51779, saving model to face_model-adam-mse-lr001-dropna.h5\n",
            "\b\b\b\b\b\b\b\b\b\b\b\b\b\b\b\b\b\b\b\b\b\b\b\b\b\b\b\b\b\b\b\b\b\b\b\b\b\b\b\b\b\b\b\b\b\b\b\b\b\b\b\b\b\b\b\b\b\b\b\b\b\b\b\b\b\b\b\b\b\b\b\b\b\b\b\b\b\b\b\b\b\b\b\b\b\b\b\b\b\b\b\b\b\b\b\b\b\b\b\b\b\b\b\b\b\b\b\b\b\b\b\b\r1712/1712 [==============================] - 34s 20ms/sample - loss: 41.6286 - acc: 0.7734 - mean_squared_error: 41.6286 - val_loss: 77.5178 - val_acc: 0.4322 - val_mean_squared_error: 77.5178\n",
            "Epoch 13/30\n",
            "1696/1712 [============================>.] - ETA: 0s - loss: 27.7127 - acc: 0.7736 - mean_squared_error: 27.7127"
          ],
          "name": "stdout"
        },
        {
          "output_type": "stream",
          "text": [
            "W0826 22:24:43.712059 140326085265280 hdf5_format.py:110] TensorFlow optimizers do not make it possible to access optimizer attributes or optimizer state after instantiation. As a result, we cannot save the optimizer as part of the model save file. You will have to compile your model again after loading it. Prefer using a Keras optimizer instead (see keras.io/optimizers).\n"
          ],
          "name": "stderr"
        },
        {
          "output_type": "stream",
          "text": [
            "\n",
            "Epoch 00013: val_loss improved from 77.51779 to 75.44741, saving model to face_model-adam-mse-lr001-dropna.h5\n",
            "\b\b\b\b\b\b\b\b\b\b\b\b\b\b\b\b\b\b\b\b\b\b\b\b\b\b\b\b\b\b\b\b\b\b\b\b\b\b\b\b\b\b\b\b\b\b\b\b\b\b\b\b\b\b\b\b\b\b\b\b\b\b\b\b\b\b\b\b\b\b\b\b\b\b\b\b\b\b\b\b\b\b\b\b\b\b\b\b\b\b\b\b\b\b\b\b\b\b\b\b\b\b\b\b\b\b\b\b\b\b\b\b\r1712/1712 [==============================] - 34s 20ms/sample - loss: 27.7235 - acc: 0.7734 - mean_squared_error: 27.7235 - val_loss: 75.4474 - val_acc: 0.4322 - val_mean_squared_error: 75.4474\n",
            "Epoch 14/30\n",
            "1696/1712 [============================>.] - ETA: 0s - loss: 28.7940 - acc: 0.7736 - mean_squared_error: 28.7940\n",
            "Epoch 00014: val_loss did not improve from 75.44741\n",
            "1712/1712 [==============================] - 34s 20ms/sample - loss: 28.6648 - acc: 0.7734 - mean_squared_error: 28.6648 - val_loss: 150.0161 - val_acc: 0.4322 - val_mean_squared_error: 150.0161\n",
            "Epoch 15/30\n",
            "1696/1712 [============================>.] - ETA: 0s - loss: 61.5448 - acc: 0.7736 - mean_squared_error: 61.5448\n",
            "Epoch 00015: val_loss did not improve from 75.44741\n",
            "1712/1712 [==============================] - 34s 20ms/sample - loss: 61.2227 - acc: 0.7734 - mean_squared_error: 61.2227 - val_loss: 81.6387 - val_acc: 0.4322 - val_mean_squared_error: 81.6387\n",
            "Epoch 16/30\n",
            "1696/1712 [============================>.] - ETA: 0s - loss: 32.9952 - acc: 0.7742 - mean_squared_error: 32.9952\n",
            "Epoch 00016: val_loss did not improve from 75.44741\n",
            "1712/1712 [==============================] - 34s 20ms/sample - loss: 32.8206 - acc: 0.7734 - mean_squared_error: 32.8206 - val_loss: 91.7437 - val_acc: 0.4322 - val_mean_squared_error: 91.7437\n",
            "Epoch 17/30\n",
            "1696/1712 [============================>.] - ETA: 0s - loss: 28.5201 - acc: 0.7742 - mean_squared_error: 28.5201\n",
            "Epoch 00017: val_loss did not improve from 75.44741\n",
            "1712/1712 [==============================] - 34s 20ms/sample - loss: 28.4418 - acc: 0.7734 - mean_squared_error: 28.4418 - val_loss: 81.5674 - val_acc: 0.4322 - val_mean_squared_error: 81.5674\n",
            "Epoch 18/30\n",
            "1696/1712 [============================>.] - ETA: 0s - loss: 43.4161 - acc: 0.7736 - mean_squared_error: 43.4161"
          ],
          "name": "stdout"
        },
        {
          "output_type": "stream",
          "text": [
            "W0826 22:27:34.886251 140326085265280 hdf5_format.py:110] TensorFlow optimizers do not make it possible to access optimizer attributes or optimizer state after instantiation. As a result, we cannot save the optimizer as part of the model save file. You will have to compile your model again after loading it. Prefer using a Keras optimizer instead (see keras.io/optimizers).\n"
          ],
          "name": "stderr"
        },
        {
          "output_type": "stream",
          "text": [
            "\n",
            "Epoch 00018: val_loss improved from 75.44741 to 72.10359, saving model to face_model-adam-mse-lr001-dropna.h5\n",
            "\b\b\b\b\b\b\b\b\b\b\b\b\b\b\b\b\b\b\b\b\b\b\b\b\b\b\b\b\b\b\b\b\b\b\b\b\b\b\b\b\b\b\b\b\b\b\b\b\b\b\b\b\b\b\b\b\b\b\b\b\b\b\b\b\b\b\b\b\b\b\b\b\b\b\b\b\b\b\b\b\b\b\b\b\b\b\b\b\b\b\b\b\b\b\b\b\b\b\b\b\b\b\b\b\b\b\b\b\b\b\b\b\r1712/1712 [==============================] - 34s 20ms/sample - loss: 43.4526 - acc: 0.7734 - mean_squared_error: 43.4526 - val_loss: 72.1036 - val_acc: 0.4322 - val_mean_squared_error: 72.1036\n",
            "Epoch 19/30\n",
            "1600/1712 [===========================>..] - ETA: 2s - loss: 28.7535 - acc: 0.7775 - mean_squared_error: 28.7535"
          ],
          "name": "stdout"
        },
        {
          "output_type": "error",
          "ename": "KeyboardInterrupt",
          "evalue": "ignored",
          "traceback": [
            "\u001b[0;31m---------------------------------------------------------------------------\u001b[0m",
            "\u001b[0;31mKeyboardInterrupt\u001b[0m                         Traceback (most recent call last)",
            "\u001b[0;32m<ipython-input-30-078b89396c1d>\u001b[0m in \u001b[0;36m<module>\u001b[0;34m()\u001b[0m\n\u001b[1;32m     11\u001b[0m \u001b[0;34m\u001b[0m\u001b[0m\n\u001b[1;32m     12\u001b[0m \u001b[0mepochs\u001b[0m \u001b[0;34m=\u001b[0m \u001b[0;36m30\u001b[0m\u001b[0;34m\u001b[0m\u001b[0;34m\u001b[0m\u001b[0m\n\u001b[0;32m---> 13\u001b[0;31m \u001b[0mhistory\u001b[0m\u001b[0;34m=\u001b[0m\u001b[0mmodel_drop_na\u001b[0m\u001b[0;34m.\u001b[0m\u001b[0mfit\u001b[0m\u001b[0;34m(\u001b[0m\u001b[0mtrain_images_clean\u001b[0m\u001b[0;34m,\u001b[0m \u001b[0mtrain_features_clean\u001b[0m\u001b[0;34m,\u001b[0m  \u001b[0mvalidation_split\u001b[0m\u001b[0;34m=\u001b[0m\u001b[0;36m0.2\u001b[0m\u001b[0;34m,\u001b[0m \u001b[0mbatch_size\u001b[0m\u001b[0;34m=\u001b[0m\u001b[0;36m32\u001b[0m\u001b[0;34m,\u001b[0m\u001b[0mepochs\u001b[0m\u001b[0;34m=\u001b[0m\u001b[0mepochs\u001b[0m\u001b[0;34m,\u001b[0m \u001b[0mcallbacks\u001b[0m\u001b[0;34m=\u001b[0m\u001b[0;34m[\u001b[0m\u001b[0mcheckpointer\u001b[0m\u001b[0;34m]\u001b[0m\u001b[0;34m,\u001b[0m \u001b[0mverbose\u001b[0m\u001b[0;34m=\u001b[0m\u001b[0;36m1\u001b[0m\u001b[0;34m)\u001b[0m\u001b[0;34m\u001b[0m\u001b[0;34m\u001b[0m\u001b[0m\n\u001b[0m\u001b[1;32m     14\u001b[0m \u001b[0;31m#history = model_drop_na.fit(train_images_clean, train_features_clean, validation_split=0.2, shuffle=True, epochs=epochs, batch_size=30, callbacks=[checkpointer], verbose=1)\u001b[0m\u001b[0;34m\u001b[0m\u001b[0;34m\u001b[0m\u001b[0;34m\u001b[0m\u001b[0m\n\u001b[1;32m     15\u001b[0m \u001b[0;34m\u001b[0m\u001b[0m\n",
            "\u001b[0;32m/usr/local/lib/python3.6/dist-packages/tensorflow/python/keras/engine/training.py\u001b[0m in \u001b[0;36mfit\u001b[0;34m(self, x, y, batch_size, epochs, verbose, callbacks, validation_split, validation_data, shuffle, class_weight, sample_weight, initial_epoch, steps_per_epoch, validation_steps, validation_freq, max_queue_size, workers, use_multiprocessing, **kwargs)\u001b[0m\n\u001b[1;32m    778\u001b[0m             \u001b[0mbefore\u001b[0m \u001b[0mdeclaring\u001b[0m \u001b[0mthe\u001b[0m \u001b[0mprediction\u001b[0m \u001b[0mround\u001b[0m \u001b[0mfinished\u001b[0m\u001b[0;34m.\u001b[0m\u001b[0;34m\u001b[0m\u001b[0;34m\u001b[0m\u001b[0m\n\u001b[1;32m    779\u001b[0m             \u001b[0mIgnored\u001b[0m \u001b[0;32mwith\u001b[0m \u001b[0mthe\u001b[0m \u001b[0mdefault\u001b[0m \u001b[0mvalue\u001b[0m \u001b[0mof\u001b[0m\u001b[0;31m \u001b[0m\u001b[0;31m`\u001b[0m\u001b[0;32mNone\u001b[0m\u001b[0;31m`\u001b[0m\u001b[0;34m.\u001b[0m \u001b[0mIf\u001b[0m \u001b[0mx\u001b[0m \u001b[0;32mis\u001b[0m \u001b[0ma\u001b[0m\u001b[0;31m \u001b[0m\u001b[0;31m`\u001b[0m\u001b[0mtf\u001b[0m\u001b[0;34m.\u001b[0m\u001b[0mdata\u001b[0m\u001b[0;31m`\u001b[0m\u001b[0;34m\u001b[0m\u001b[0;34m\u001b[0m\u001b[0m\n\u001b[0;32m--> 780\u001b[0;31m             \u001b[0mdataset\u001b[0m \u001b[0;32mor\u001b[0m \u001b[0ma\u001b[0m \u001b[0mdataset\u001b[0m \u001b[0miterator\u001b[0m\u001b[0;34m,\u001b[0m \u001b[0;32mand\u001b[0m\u001b[0;31m \u001b[0m\u001b[0;31m`\u001b[0m\u001b[0msteps\u001b[0m\u001b[0;31m`\u001b[0m \u001b[0;32mis\u001b[0m \u001b[0;32mNone\u001b[0m\u001b[0;34m,\u001b[0m\u001b[0;31m \u001b[0m\u001b[0;31m`\u001b[0m\u001b[0mpredict\u001b[0m\u001b[0;31m`\u001b[0m \u001b[0mwill\u001b[0m\u001b[0;34m\u001b[0m\u001b[0;34m\u001b[0m\u001b[0m\n\u001b[0m\u001b[1;32m    781\u001b[0m             \u001b[0mrun\u001b[0m \u001b[0muntil\u001b[0m \u001b[0mthe\u001b[0m \u001b[0minput\u001b[0m \u001b[0mdataset\u001b[0m \u001b[0;32mis\u001b[0m \u001b[0mexhausted\u001b[0m\u001b[0;34m.\u001b[0m\u001b[0;34m\u001b[0m\u001b[0;34m\u001b[0m\u001b[0m\n\u001b[1;32m    782\u001b[0m         \u001b[0mcallbacks\u001b[0m\u001b[0;34m:\u001b[0m \u001b[0mList\u001b[0m \u001b[0mof\u001b[0m\u001b[0;31m \u001b[0m\u001b[0;31m`\u001b[0m\u001b[0mkeras\u001b[0m\u001b[0;34m.\u001b[0m\u001b[0mcallbacks\u001b[0m\u001b[0;34m.\u001b[0m\u001b[0mCallback\u001b[0m\u001b[0;31m`\u001b[0m \u001b[0minstances\u001b[0m\u001b[0;34m.\u001b[0m\u001b[0;34m\u001b[0m\u001b[0;34m\u001b[0m\u001b[0m\n",
            "\u001b[0;32m/usr/local/lib/python3.6/dist-packages/tensorflow/python/keras/engine/training_arrays.py\u001b[0m in \u001b[0;36mmodel_iteration\u001b[0;34m(model, inputs, targets, sample_weights, batch_size, epochs, verbose, callbacks, val_inputs, val_targets, val_sample_weights, shuffle, initial_epoch, steps_per_epoch, validation_steps, validation_freq, mode, validation_in_fit, prepared_feed_values_from_dataset, steps_name, **kwargs)\u001b[0m\n\u001b[1;32m    361\u001b[0m         \u001b[0;32mtry\u001b[0m\u001b[0;34m:\u001b[0m\u001b[0;34m\u001b[0m\u001b[0;34m\u001b[0m\u001b[0m\n\u001b[1;32m    362\u001b[0m           \u001b[0;32mif\u001b[0m \u001b[0mins\u001b[0m \u001b[0;32mand\u001b[0m \u001b[0misinstance\u001b[0m\u001b[0;34m(\u001b[0m\u001b[0mins\u001b[0m\u001b[0;34m[\u001b[0m\u001b[0;34m-\u001b[0m\u001b[0;36m1\u001b[0m\u001b[0;34m]\u001b[0m\u001b[0;34m,\u001b[0m \u001b[0mint\u001b[0m\u001b[0;34m)\u001b[0m\u001b[0;34m:\u001b[0m\u001b[0;34m\u001b[0m\u001b[0;34m\u001b[0m\u001b[0m\n\u001b[0;32m--> 363\u001b[0;31m             \u001b[0;31m# Do not slice the training phase flag.\u001b[0m\u001b[0;34m\u001b[0m\u001b[0;34m\u001b[0m\u001b[0;34m\u001b[0m\u001b[0m\n\u001b[0m\u001b[1;32m    364\u001b[0m             \u001b[0mins_batch\u001b[0m \u001b[0;34m=\u001b[0m \u001b[0mslice_arrays\u001b[0m\u001b[0;34m(\u001b[0m\u001b[0mins\u001b[0m\u001b[0;34m[\u001b[0m\u001b[0;34m:\u001b[0m\u001b[0;34m-\u001b[0m\u001b[0;36m1\u001b[0m\u001b[0;34m]\u001b[0m\u001b[0;34m,\u001b[0m \u001b[0mbatch_ids\u001b[0m\u001b[0;34m)\u001b[0m \u001b[0;34m+\u001b[0m \u001b[0;34m[\u001b[0m\u001b[0mins\u001b[0m\u001b[0;34m[\u001b[0m\u001b[0;34m-\u001b[0m\u001b[0;36m1\u001b[0m\u001b[0;34m]\u001b[0m\u001b[0;34m]\u001b[0m\u001b[0;34m\u001b[0m\u001b[0;34m\u001b[0m\u001b[0m\n\u001b[1;32m    365\u001b[0m           \u001b[0;32melse\u001b[0m\u001b[0;34m:\u001b[0m\u001b[0;34m\u001b[0m\u001b[0;34m\u001b[0m\u001b[0m\n",
            "\u001b[0;32m/usr/local/lib/python3.6/dist-packages/tensorflow/python/keras/backend.py\u001b[0m in \u001b[0;36m__call__\u001b[0;34m(self, inputs)\u001b[0m\n\u001b[1;32m   3290\u001b[0m     \u001b[0mself\u001b[0m\u001b[0;34m.\u001b[0m\u001b[0m_fetches\u001b[0m \u001b[0;34m=\u001b[0m \u001b[0mlist\u001b[0m\u001b[0;34m(\u001b[0m\u001b[0mself\u001b[0m\u001b[0;34m.\u001b[0m\u001b[0mfetches\u001b[0m\u001b[0;34m)\u001b[0m\u001b[0;34m\u001b[0m\u001b[0;34m\u001b[0m\u001b[0m\n\u001b[1;32m   3291\u001b[0m     \u001b[0mself\u001b[0m\u001b[0;34m.\u001b[0m\u001b[0m_session\u001b[0m \u001b[0;34m=\u001b[0m \u001b[0msession\u001b[0m\u001b[0;34m\u001b[0m\u001b[0;34m\u001b[0m\u001b[0m\n\u001b[0;32m-> 3292\u001b[0;31m \u001b[0;34m\u001b[0m\u001b[0m\n\u001b[0m\u001b[1;32m   3293\u001b[0m   \u001b[0;32mdef\u001b[0m \u001b[0m_call_fetch_callbacks\u001b[0m\u001b[0;34m(\u001b[0m\u001b[0mself\u001b[0m\u001b[0;34m,\u001b[0m \u001b[0mfetches_output\u001b[0m\u001b[0;34m)\u001b[0m\u001b[0;34m:\u001b[0m\u001b[0;34m\u001b[0m\u001b[0;34m\u001b[0m\u001b[0m\n\u001b[1;32m   3294\u001b[0m     \u001b[0;32mfor\u001b[0m \u001b[0mfetch\u001b[0m\u001b[0;34m,\u001b[0m \u001b[0moutput\u001b[0m \u001b[0;32min\u001b[0m \u001b[0mzip\u001b[0m\u001b[0;34m(\u001b[0m\u001b[0mself\u001b[0m\u001b[0;34m.\u001b[0m\u001b[0m_fetches\u001b[0m\u001b[0;34m,\u001b[0m \u001b[0mfetches_output\u001b[0m\u001b[0;34m)\u001b[0m\u001b[0;34m:\u001b[0m\u001b[0;34m\u001b[0m\u001b[0;34m\u001b[0m\u001b[0m\n",
            "\u001b[0;32m/usr/local/lib/python3.6/dist-packages/tensorflow/python/client/session.py\u001b[0m in \u001b[0;36m__call__\u001b[0;34m(self, *args, **kwargs)\u001b[0m\n\u001b[1;32m   1456\u001b[0m         ret = tf_session.TF_SessionRunCallable(self._session._session,\n\u001b[1;32m   1457\u001b[0m                                                \u001b[0mself\u001b[0m\u001b[0;34m.\u001b[0m\u001b[0m_handle\u001b[0m\u001b[0;34m,\u001b[0m \u001b[0margs\u001b[0m\u001b[0;34m,\u001b[0m\u001b[0;34m\u001b[0m\u001b[0;34m\u001b[0m\u001b[0m\n\u001b[0;32m-> 1458\u001b[0;31m                                                run_metadata_ptr)\n\u001b[0m\u001b[1;32m   1459\u001b[0m         \u001b[0;32mif\u001b[0m \u001b[0mrun_metadata\u001b[0m\u001b[0;34m:\u001b[0m\u001b[0;34m\u001b[0m\u001b[0;34m\u001b[0m\u001b[0m\n\u001b[1;32m   1460\u001b[0m           \u001b[0mproto_data\u001b[0m \u001b[0;34m=\u001b[0m \u001b[0mtf_session\u001b[0m\u001b[0;34m.\u001b[0m\u001b[0mTF_GetBuffer\u001b[0m\u001b[0;34m(\u001b[0m\u001b[0mrun_metadata_ptr\u001b[0m\u001b[0;34m)\u001b[0m\u001b[0;34m\u001b[0m\u001b[0;34m\u001b[0m\u001b[0m\n",
            "\u001b[0;31mKeyboardInterrupt\u001b[0m: "
          ]
        }
      ]
    },
    {
      "cell_type": "code",
      "metadata": {
        "id": "ZZm9D1pLhDJ8",
        "colab_type": "code",
        "outputId": "88059572-a6ba-4f20-e3f8-055aca6474af",
        "colab": {
          "base_uri": "https://localhost:8080/",
          "height": 212
        }
      },
      "source": [
        "import os\n",
        "import pprint\n",
        "use_tpu = True #@param {type:\"boolean\"}\n",
        "\n",
        "if use_tpu:\n",
        "    assert 'COLAB_TPU_ADDR' in os.environ, 'Missing TPU; did you request a TPU in Notebook Settings?'\n",
        "\n",
        "if 'COLAB_TPU_ADDR' in os.environ:\n",
        "  TF_MASTER = 'grpc://{}'.format(os.environ['COLAB_TPU_ADDR'])\n",
        "else:\n",
        "  TF_MASTER=''\n",
        "\n",
        "with tf.Session(TF_MASTER) as session:\n",
        "  print ('List of devices:')\n",
        "  pprint.pprint(session.list_devices())"
      ],
      "execution_count": 0,
      "outputs": [
        {
          "output_type": "stream",
          "text": [
            "List of devices:\n",
            "[_DeviceAttributes(/job:tpu_worker/replica:0/task:0/device:CPU:0, CPU, -1, 7290481272889922896),\n",
            " _DeviceAttributes(/job:tpu_worker/replica:0/task:0/device:XLA_CPU:0, XLA_CPU, 17179869184, 11969603247550039086),\n",
            " _DeviceAttributes(/job:tpu_worker/replica:0/task:0/device:TPU:0, TPU, 17179869184, 10427232135652081834),\n",
            " _DeviceAttributes(/job:tpu_worker/replica:0/task:0/device:TPU:1, TPU, 17179869184, 7242172634140884416),\n",
            " _DeviceAttributes(/job:tpu_worker/replica:0/task:0/device:TPU:2, TPU, 17179869184, 7395168267477971138),\n",
            " _DeviceAttributes(/job:tpu_worker/replica:0/task:0/device:TPU:3, TPU, 17179869184, 1514941088021691226),\n",
            " _DeviceAttributes(/job:tpu_worker/replica:0/task:0/device:TPU:4, TPU, 17179869184, 14245311141171946107),\n",
            " _DeviceAttributes(/job:tpu_worker/replica:0/task:0/device:TPU:5, TPU, 17179869184, 13014049163277534302),\n",
            " _DeviceAttributes(/job:tpu_worker/replica:0/task:0/device:TPU:6, TPU, 17179869184, 7457356830558073233),\n",
            " _DeviceAttributes(/job:tpu_worker/replica:0/task:0/device:TPU:7, TPU, 17179869184, 17846141785674529029),\n",
            " _DeviceAttributes(/job:tpu_worker/replica:0/task:0/device:TPU_SYSTEM:0, TPU_SYSTEM, 8589934592, 6168829438145669199)]\n"
          ],
          "name": "stdout"
        }
      ]
    },
    {
      "cell_type": "code",
      "metadata": {
        "id": "xx3suHEZgBve",
        "colab_type": "code",
        "outputId": "ccbaba08-6fec-43be-e45f-b1447608cdac",
        "colab": {
          "base_uri": "https://localhost:8080/",
          "height": 207
        }
      },
      "source": [
        "resolver = tf.contrib.cluster_resolver.TPUClusterResolver(TF_MASTER)\n",
        "tf.contrib.distribute.initialize_tpu_system(resolver)\n",
        "strategy = tf.contrib.distribute.TPUStrategy(resolver)\n",
        "\"Warning: THIS FUNCTION IS DEPRECATED. It will be removed after 2019-02-20. Instructions for updating: Switch to tf.contrib.distribute.TPUStrategy. https://www.tensorflow.org/api_docs/python/tf/contrib/distribute/DistributionStrategy\""
      ],
      "execution_count": 0,
      "outputs": [
        {
          "output_type": "error",
          "ename": "AttributeError",
          "evalue": "ignored",
          "traceback": [
            "\u001b[0;31m---------------------------------------------------------------------------\u001b[0m",
            "\u001b[0;31mAttributeError\u001b[0m                            Traceback (most recent call last)",
            "\u001b[0;32m<ipython-input-20-e6e98c97a344>\u001b[0m in \u001b[0;36m<module>\u001b[0;34m()\u001b[0m\n\u001b[1;32m      1\u001b[0m \u001b[0mresolver\u001b[0m \u001b[0;34m=\u001b[0m \u001b[0mtf\u001b[0m\u001b[0;34m.\u001b[0m\u001b[0mcontrib\u001b[0m\u001b[0;34m.\u001b[0m\u001b[0mcluster_resolver\u001b[0m\u001b[0;34m.\u001b[0m\u001b[0mTPUClusterResolver\u001b[0m\u001b[0;34m(\u001b[0m\u001b[0mTF_MASTER\u001b[0m\u001b[0;34m)\u001b[0m\u001b[0;34m\u001b[0m\u001b[0;34m\u001b[0m\u001b[0m\n\u001b[0;32m----> 2\u001b[0;31m \u001b[0mtf\u001b[0m\u001b[0;34m.\u001b[0m\u001b[0mcontrib\u001b[0m\u001b[0;34m.\u001b[0m\u001b[0mdistribute\u001b[0m\u001b[0;34m.\u001b[0m\u001b[0minitialize_tpu_system\u001b[0m\u001b[0;34m(\u001b[0m\u001b[0mresolver\u001b[0m\u001b[0;34m)\u001b[0m\u001b[0;34m\u001b[0m\u001b[0;34m\u001b[0m\u001b[0m\n\u001b[0m\u001b[1;32m      3\u001b[0m \u001b[0mstrategy\u001b[0m \u001b[0;34m=\u001b[0m \u001b[0mtf\u001b[0m\u001b[0;34m.\u001b[0m\u001b[0mcontrib\u001b[0m\u001b[0;34m.\u001b[0m\u001b[0mdistribute\u001b[0m\u001b[0;34m.\u001b[0m\u001b[0mTPUStrategy\u001b[0m\u001b[0;34m(\u001b[0m\u001b[0mresolver\u001b[0m\u001b[0;34m)\u001b[0m\u001b[0;34m\u001b[0m\u001b[0;34m\u001b[0m\u001b[0m\n\u001b[1;32m      4\u001b[0m \u001b[0;34m\"Warning: THIS FUNCTION IS DEPRECATED. It will be removed after 2019-02-20. Instructions for updating: Switch to tf.contrib.distribute.TPUStrategy. https://www.tensorflow.org/api_docs/python/tf/contrib/distribute/DistributionStrategy\"\u001b[0m\u001b[0;34m\u001b[0m\u001b[0;34m\u001b[0m\u001b[0m\n",
            "\u001b[0;31mAttributeError\u001b[0m: module 'tensorflow.contrib.distribute' has no attribute 'initialize_tpu_system'"
          ]
        }
      ]
    },
    {
      "cell_type": "code",
      "metadata": {
        "id": "gdZb0gHcgRSN",
        "colab_type": "code",
        "outputId": "48967a85-c483-47d0-fd49-bd908ef1baa0",
        "colab": {
          "base_uri": "https://localhost:8080/",
          "height": 629
        }
      },
      "source": [
        "with strategy.scope():\n",
        "  model = get_model()\n",
        "  model.compile(optimizer=tf.keras.optimizers.Adagrad(learning_rate=0.1), \n",
        "                 loss='mean_squared_error', metrics=['acc','mse'])\n",
        "\n",
        "model.summary()"
      ],
      "execution_count": 0,
      "outputs": [
        {
          "output_type": "stream",
          "text": [
            "Model: \"sequential_2\"\n",
            "_________________________________________________________________\n",
            "Layer (type)                 Output Shape              Param #   \n",
            "=================================================================\n",
            "batch_normalization_2 (Batch (None, 96, 96, 1)         4         \n",
            "_________________________________________________________________\n",
            "conv2d_10 (Conv2D)           (None, 96, 96, 24)        624       \n",
            "_________________________________________________________________\n",
            "max_pooling2d_8 (MaxPooling2 (None, 48, 48, 24)        0         \n",
            "_________________________________________________________________\n",
            "conv2d_11 (Conv2D)           (None, 44, 44, 36)        21636     \n",
            "_________________________________________________________________\n",
            "max_pooling2d_9 (MaxPooling2 (None, 22, 22, 36)        0         \n",
            "_________________________________________________________________\n",
            "conv2d_12 (Conv2D)           (None, 18, 18, 48)        43248     \n",
            "_________________________________________________________________\n",
            "max_pooling2d_10 (MaxPooling (None, 9, 9, 48)          0         \n",
            "_________________________________________________________________\n",
            "conv2d_13 (Conv2D)           (None, 7, 7, 64)          27712     \n",
            "_________________________________________________________________\n",
            "max_pooling2d_11 (MaxPooling (None, 3, 3, 64)          0         \n",
            "_________________________________________________________________\n",
            "conv2d_14 (Conv2D)           (None, 1, 1, 64)          36928     \n",
            "_________________________________________________________________\n",
            "global_average_pooling2d_2 ( (None, 64)                0         \n",
            "_________________________________________________________________\n",
            "dense_6 (Dense)              (None, 500)               32500     \n",
            "_________________________________________________________________\n",
            "dense_7 (Dense)              (None, 90)                45090     \n",
            "_________________________________________________________________\n",
            "dense_8 (Dense)              (None, 30)                2730      \n",
            "=================================================================\n",
            "Total params: 210,472\n",
            "Trainable params: 210,470\n",
            "Non-trainable params: 2\n",
            "_________________________________________________________________\n"
          ],
          "name": "stdout"
        }
      ]
    },
    {
      "cell_type": "code",
      "metadata": {
        "id": "o8sRrqYqik4t",
        "colab_type": "code",
        "outputId": "2790c2f5-f1a8-48c4-c6cd-49b41b4475ef",
        "colab": {
          "base_uri": "https://localhost:8080/",
          "height": 1000
        }
      },
      "source": [
        "file_checkpoint_name='face_model-adam-TPU-mse-lr001-dropna.h5'\n",
        "\n",
        "\n",
        "img = train_images_clean.astype(np.float32)\n",
        "\n",
        "feats=train_features_clean.astype(np.float32)\n",
        "\n",
        "checkpointer = callbacks.ModelCheckpoint(filepath=file_checkpoint_name, verbose=1, save_best_only=True)\n",
        "\n",
        "epochs = 30\n",
        "history=model.fit(x=img[0:1696],y=feats[0:1696],validation_data=(img[1697:2125],feats[1697:2125]), epochs=epochs, callbacks=[checkpointer], verbose=1)"
      ],
      "execution_count": 0,
      "outputs": [
        {
          "output_type": "stream",
          "text": [
            "Epoch 1/30\n",
            "14/14 [==============================] - 6s 426ms/step\n",
            "14/14 [==============================] - 6s 426ms/step\n",
            "\n",
            "Epoch 00001: val_loss improved from inf to 18.26732, saving model to face_model-adam-TPU-mse-lr001-dropna.h5\n",
            "53/53 [==============================] - 18s 344ms/step - loss: 6924051316.1941 - acc: 0.5377 - mean_squared_error: 6924050944.0000 - val_loss: 18.2673 - val_acc: 0.4299 - val_mean_squared_error: 19.1209\n",
            "Epoch 2/30\n",
            "14/14 [==============================] - 6s 464ms/step\n",
            "14/14 [==============================] - 6s 464ms/step\n",
            "\n",
            "Epoch 00002: val_loss improved from 18.26732 to 18.17977, saving model to face_model-adam-TPU-mse-lr001-dropna.h5\n",
            "53/53 [==============================] - 11s 205ms/step - loss: 8.7811 - acc: 0.7765 - mean_squared_error: 8.7811 - val_loss: 18.1798 - val_acc: 0.4299 - val_mean_squared_error: 19.0293\n",
            "Epoch 3/30\n",
            "14/14 [==============================] - 8s 537ms/step\n",
            "14/14 [==============================] - 8s 538ms/step\n",
            "\n",
            "Epoch 00003: val_loss improved from 18.17977 to 17.90663, saving model to face_model-adam-TPU-mse-lr001-dropna.h5\n",
            "53/53 [==============================] - 12s 226ms/step - loss: 9.2839 - acc: 0.7765 - mean_squared_error: 9.2839 - val_loss: 17.9066 - val_acc: 0.4299 - val_mean_squared_error: 18.7434\n",
            "Epoch 4/30\n",
            "14/14 [==============================] - 8s 602ms/step\n",
            "14/14 [==============================] - 8s 602ms/step\n",
            "\n",
            "Epoch 00004: val_loss did not improve from 17.90663\n",
            "53/53 [==============================] - 13s 244ms/step - loss: 9.0249 - acc: 0.7765 - mean_squared_error: 9.0249 - val_loss: 19.5526 - val_acc: 0.4299 - val_mean_squared_error: 20.4662\n",
            "Epoch 5/30\n",
            "14/14 [==============================] - 9s 619ms/step\n",
            "14/14 [==============================] - 9s 619ms/step\n",
            "\n",
            "Epoch 00005: val_loss improved from 17.90663 to 16.24592, saving model to face_model-adam-TPU-mse-lr001-dropna.h5\n",
            "53/53 [==============================] - 14s 261ms/step - loss: 9.1053 - acc: 0.7765 - mean_squared_error: 9.1053 - val_loss: 16.2459 - val_acc: 0.4299 - val_mean_squared_error: 17.0051\n",
            "Epoch 6/30\n",
            "14/14 [==============================] - 9s 651ms/step\n",
            "14/14 [==============================] - 9s 651ms/step\n",
            "\n",
            "Epoch 00006: val_loss did not improve from 16.24592\n",
            "53/53 [==============================] - 14s 271ms/step - loss: 8.7849 - acc: 0.7765 - mean_squared_error: 8.7849 - val_loss: 16.3288 - val_acc: 0.4299 - val_mean_squared_error: 17.0919\n",
            "Epoch 7/30\n",
            "14/14 [==============================] - 10s 709ms/step\n",
            "14/14 [==============================] - 10s 709ms/step\n",
            "\n",
            "Epoch 00007: val_loss did not improve from 16.24592\n",
            "53/53 [==============================] - 16s 297ms/step - loss: 8.7512 - acc: 0.7765 - mean_squared_error: 8.7512 - val_loss: 16.3271 - val_acc: 0.4299 - val_mean_squared_error: 17.0900\n",
            "Epoch 8/30\n",
            "14/14 [==============================] - 11s 781ms/step\n",
            "14/14 [==============================] - 11s 781ms/step\n",
            "\n",
            "Epoch 00008: val_loss did not improve from 16.24592\n",
            "53/53 [==============================] - 17s 327ms/step - loss: 9.2001 - acc: 0.7765 - mean_squared_error: 9.2001 - val_loss: 20.5083 - val_acc: 0.4299 - val_mean_squared_error: 21.4666\n",
            "Epoch 9/30\n",
            "14/14 [==============================] - 12s 827ms/step\n",
            "14/14 [==============================] - 12s 827ms/step\n",
            "\n",
            "Epoch 00009: val_loss improved from 16.24592 to 16.10130, saving model to face_model-adam-TPU-mse-lr001-dropna.h5\n",
            "53/53 [==============================] - 18s 338ms/step - loss: 8.7729 - acc: 0.7765 - mean_squared_error: 8.7729 - val_loss: 16.1013 - val_acc: 0.4299 - val_mean_squared_error: 16.8537\n",
            "Epoch 10/30\n",
            "14/14 [==============================] - 13s 895ms/step\n",
            "14/14 [==============================] - 13s 895ms/step\n",
            "\n",
            "Epoch 00010: val_loss did not improve from 16.10130\n",
            "53/53 [==============================] - 19s 364ms/step - loss: 8.8886 - acc: 0.7765 - mean_squared_error: 8.8886 - val_loss: 16.8451 - val_acc: 0.4299 - val_mean_squared_error: 17.6322\n",
            "Epoch 11/30\n",
            "14/14 [==============================] - 13s 923ms/step\n",
            "14/14 [==============================] - 13s 923ms/step\n",
            "\n",
            "Epoch 00011: val_loss did not improve from 16.10130\n",
            "53/53 [==============================] - 20s 382ms/step - loss: 8.8119 - acc: 0.7765 - mean_squared_error: 8.8119 - val_loss: 16.6438 - val_acc: 0.4299 - val_mean_squared_error: 17.4216\n",
            "Epoch 12/30\n",
            "14/14 [==============================] - 14s 1s/step\n",
            "14/14 [==============================] - 14s 1s/step\n",
            "\n",
            "Epoch 00012: val_loss did not improve from 16.10130\n",
            "53/53 [==============================] - 22s 412ms/step - loss: 8.6026 - acc: 0.7765 - mean_squared_error: 8.6026 - val_loss: 16.1616 - val_acc: 0.4299 - val_mean_squared_error: 16.9168\n",
            "Epoch 13/30\n",
            "14/14 [==============================] - 14s 1s/step\n",
            "14/14 [==============================] - 14s 1s/step\n",
            "\n",
            "Epoch 00013: val_loss did not improve from 16.10130\n",
            "53/53 [==============================] - 22s 418ms/step - loss: 8.8177 - acc: 0.7765 - mean_squared_error: 8.8177 - val_loss: 16.4863 - val_acc: 0.4299 - val_mean_squared_error: 17.2567\n",
            "Epoch 14/30\n",
            "14/14 [==============================] - 16s 1s/step\n",
            "14/14 [==============================] - 16s 1s/step\n",
            "\n",
            "Epoch 00014: val_loss improved from 16.10130 to 15.92184, saving model to face_model-adam-TPU-mse-lr001-dropna.h5\n",
            "53/53 [==============================] - 24s 460ms/step - loss: 8.6529 - acc: 0.7765 - mean_squared_error: 8.6529 - val_loss: 15.9218 - val_acc: 0.4299 - val_mean_squared_error: 16.6658\n",
            "Epoch 15/30\n",
            "14/14 [==============================] - 16s 1s/step\n",
            "14/14 [==============================] - 16s 1s/step\n",
            "\n",
            "Epoch 00015: val_loss improved from 15.92184 to 15.91105, saving model to face_model-adam-TPU-mse-lr001-dropna.h5\n",
            "53/53 [==============================] - 25s 479ms/step - loss: 8.9836 - acc: 0.7765 - mean_squared_error: 8.9836 - val_loss: 15.9110 - val_acc: 0.4299 - val_mean_squared_error: 16.6546\n",
            "Epoch 16/30\n",
            "14/14 [==============================] - 18s 1s/step\n",
            "14/14 [==============================] - 18s 1s/step\n",
            "\n",
            "Epoch 00016: val_loss did not improve from 15.91105\n",
            "53/53 [==============================] - 27s 513ms/step - loss: 8.6227 - acc: 0.7765 - mean_squared_error: 8.6227 - val_loss: 16.2624 - val_acc: 0.4299 - val_mean_squared_error: 17.0223\n",
            "Epoch 17/30\n",
            "14/14 [==============================] - 18s 1s/step\n",
            "14/14 [==============================] - 18s 1s/step\n",
            "\n",
            "Epoch 00017: val_loss did not improve from 15.91105\n",
            "53/53 [==============================] - 29s 542ms/step - loss: 8.5462 - acc: 0.7765 - mean_squared_error: 8.5462 - val_loss: 16.3047 - val_acc: 0.4299 - val_mean_squared_error: 17.0666\n",
            "Epoch 18/30\n",
            "14/14 [==============================] - 20s 1s/step\n",
            "14/14 [==============================] - 20s 1s/step\n",
            "\n",
            "Epoch 00018: val_loss did not improve from 15.91105\n",
            "53/53 [==============================] - 30s 567ms/step - loss: 8.6817 - acc: 0.7765 - mean_squared_error: 8.6817 - val_loss: 16.2372 - val_acc: 0.4299 - val_mean_squared_error: 16.9959\n",
            "Epoch 19/30\n",
            "14/14 [==============================] - 20s 1s/step\n",
            "14/14 [==============================] - 20s 1s/step\n",
            "\n",
            "Epoch 00019: val_loss did not improve from 15.91105\n",
            "53/53 [==============================] - 30s 567ms/step - loss: 8.8310 - acc: 0.7765 - mean_squared_error: 8.8310 - val_loss: 16.3490 - val_acc: 0.4299 - val_mean_squared_error: 17.1130\n",
            "Epoch 20/30\n",
            "14/14 [==============================] - 21s 2s/step\n",
            "14/14 [==============================] - 21s 2s/step\n",
            "\n",
            "Epoch 00020: val_loss did not improve from 15.91105\n",
            "53/53 [==============================] - 32s 603ms/step - loss: 8.6780 - acc: 0.7765 - mean_squared_error: 8.6780 - val_loss: 16.2523 - val_acc: 0.4299 - val_mean_squared_error: 17.0117\n",
            "Epoch 21/30\n",
            "14/14 [==============================] - 23s 2s/step\n",
            "14/14 [==============================] - 23s 2s/step\n",
            "\n",
            "Epoch 00021: val_loss did not improve from 15.91105\n",
            "53/53 [==============================] - 34s 646ms/step - loss: 8.6552 - acc: 0.7765 - mean_squared_error: 8.6552 - val_loss: 16.1292 - val_acc: 0.4299 - val_mean_squared_error: 16.8829\n",
            "Epoch 22/30\n",
            "14/14 [==============================] - 23s 2s/step\n",
            "14/14 [==============================] - 23s 2s/step\n",
            "\n",
            "Epoch 00022: val_loss did not improve from 15.91105\n",
            "53/53 [==============================] - 36s 685ms/step - loss: 8.7338 - acc: 0.7765 - mean_squared_error: 8.7338 - val_loss: 16.5651 - val_acc: 0.4299 - val_mean_squared_error: 17.3392\n",
            "Epoch 23/30\n",
            "14/14 [==============================] - 26s 2s/step\n",
            "14/14 [==============================] - 26s 2s/step\n",
            "\n",
            "Epoch 00023: val_loss did not improve from 15.91105\n",
            "53/53 [==============================] - 39s 741ms/step - loss: 8.5513 - acc: 0.7765 - mean_squared_error: 8.5513 - val_loss: 17.3978 - val_acc: 0.4299 - val_mean_squared_error: 18.2108\n",
            "Epoch 24/30\n",
            "14/14 [==============================] - 27s 2s/step\n",
            "14/14 [==============================] - 27s 2s/step\n",
            "\n",
            "Epoch 00024: val_loss did not improve from 15.91105\n",
            "53/53 [==============================] - 40s 749ms/step - loss: 8.7820 - acc: 0.7765 - mean_squared_error: 8.7820 - val_loss: 20.2285 - val_acc: 0.4299 - val_mean_squared_error: 21.1737\n",
            "Epoch 25/30\n",
            "14/14 [==============================] - 27s 2s/step\n",
            "14/14 [==============================] - 27s 2s/step\n",
            "\n",
            "Epoch 00025: val_loss did not improve from 15.91105\n",
            "53/53 [==============================] - 41s 777ms/step - loss: 8.7175 - acc: 0.7765 - mean_squared_error: 8.7175 - val_loss: 16.2509 - val_acc: 0.4299 - val_mean_squared_error: 17.0103\n",
            "Epoch 26/30\n",
            "14/14 [==============================] - 28s 2s/step\n",
            "14/14 [==============================] - 28s 2s/step\n",
            "\n",
            "Epoch 00026: val_loss did not improve from 15.91105\n",
            "53/53 [==============================] - 43s 807ms/step - loss: 8.6693 - acc: 0.7765 - mean_squared_error: 8.6693 - val_loss: 16.4468 - val_acc: 0.4299 - val_mean_squared_error: 17.2153\n",
            "Epoch 27/30\n",
            "14/14 [==============================] - 30s 2s/step\n",
            "14/14 [==============================] - 30s 2s/step\n",
            "\n",
            "Epoch 00027: val_loss did not improve from 15.91105\n",
            "53/53 [==============================] - 45s 854ms/step - loss: 8.5806 - acc: 0.7765 - mean_squared_error: 8.5806 - val_loss: 16.2420 - val_acc: 0.4299 - val_mean_squared_error: 17.0010\n",
            "Epoch 28/30\n",
            "14/14 [==============================] - 31s 2s/step\n",
            "14/14 [==============================] - 31s 2s/step\n",
            "\n",
            "Epoch 00028: val_loss did not improve from 15.91105\n",
            "53/53 [==============================] - 46s 871ms/step - loss: 8.6071 - acc: 0.7765 - mean_squared_error: 8.6071 - val_loss: 17.2832 - val_acc: 0.4299 - val_mean_squared_error: 18.0909\n",
            "Epoch 29/30\n",
            "14/14 [==============================] - 31s 2s/step\n",
            "14/14 [==============================] - 31s 2s/step\n",
            "\n",
            "Epoch 00029: val_loss did not improve from 15.91105\n",
            "53/53 [==============================] - 48s 902ms/step - loss: 8.6136 - acc: 0.7765 - mean_squared_error: 8.6136 - val_loss: 16.1895 - val_acc: 0.4299 - val_mean_squared_error: 16.9460\n",
            "Epoch 30/30\n",
            "14/14 [==============================] - 33s 2s/step\n",
            "14/14 [==============================] - 33s 2s/step\n",
            "\n",
            "Epoch 00030: val_loss did not improve from 15.91105\n",
            "53/53 [==============================] - 50s 949ms/step - loss: 8.8208 - acc: 0.7765 - mean_squared_error: 8.8208 - val_loss: 16.8492 - val_acc: 0.4299 - val_mean_squared_error: 17.6366\n"
          ],
          "name": "stdout"
        }
      ]
    },
    {
      "cell_type": "code",
      "metadata": {
        "id": "o32YCiPHjYzj",
        "colab_type": "code",
        "colab": {}
      },
      "source": [
        "print(train_images_clean.shape); print(train_features_clean.shape)"
      ],
      "execution_count": 0,
      "outputs": []
    },
    {
      "cell_type": "code",
      "metadata": {
        "id": "t4_eS1WbmbPG",
        "colab_type": "code",
        "colab": {}
      },
      "source": [
        "import time\n",
        "#time.sleep(10)\n",
        "files.download(file_checkpoint_name) \n",
        "# evaluate the model\n",
        "#_, train_mse = model.evaluate(train_images_cnn, train_features_cnn, verbose=0)\n",
        "#_, test_mse = model.evaluate(train_images_dirty, train_features_dirty, verbose=0)\n",
        "#print('Train: %.3f, Test: %.3f' % (train_mse, test_mse))\n",
        "# plot loss during training\n",
        "\n",
        "!ls"
      ],
      "execution_count": 0,
      "outputs": []
    },
    {
      "cell_type": "code",
      "metadata": {
        "id": "e7zGMSROB4ZL",
        "colab_type": "code",
        "colab": {}
      },
      "source": [
        ""
      ],
      "execution_count": 0,
      "outputs": []
    },
    {
      "cell_type": "code",
      "metadata": {
        "id": "v4nLEprP-iGC",
        "colab_type": "code",
        "outputId": "909fc019-51e9-4e90-d208-7e0a71795be5",
        "colab": {
          "base_uri": "https://localhost:8080/",
          "height": 33
        }
      },
      "source": [
        "\n",
        "import os\n",
        "def train_input_fn(x_train,y_train,batch_size=850):\n",
        "    # Convert the inputs to a Dataset.\n",
        "    dataset = tf.data.Dataset.from_tensor_slices((x_train,y_train))\n",
        "# Shuffle, repeat, and batch the examples.\n",
        "    dataset = dataset.cache()\n",
        "    dataset = dataset.shuffle(850, reshuffle_each_iteration=True)\n",
        "    dataset = dataset.repeat()\n",
        "    dataset = dataset.batch(batch_size, drop_remainder=True)\n",
        "# Return the dataset.\n",
        "    return dataset\n",
        "\n",
        "try:\n",
        " device_name = os.environ['COLAB_TPU_ADDR']\n",
        " TPU_ADDRESS = 'grpc://' + device_name\n",
        " print('Found TPU at: {}'.format(TPU_ADDRESS))\n",
        "except KeyError:\n",
        " print('TPU not found')"
      ],
      "execution_count": 0,
      "outputs": [
        {
          "output_type": "stream",
          "text": [
            "Found TPU at: grpc://10.113.166.170:8470\n"
          ],
          "name": "stdout"
        }
      ]
    },
    {
      "cell_type": "code",
      "metadata": {
        "id": "u_AW09r6ZBGX",
        "colab_type": "code",
        "outputId": "288abf3e-70c1-4a5b-a478-0afa73cd5715",
        "colab": {
          "base_uri": "https://localhost:8080/",
          "height": 212
        }
      },
      "source": [
        "import pprint\n",
        "use_tpu = True #@param {type:\"boolean\"}\n",
        "if use_tpu:\n",
        "    assert 'COLAB_TPU_ADDR' in os.environ, 'Missing TPU; did you request a TPU in Notebook Settings?'\n",
        "\n",
        "if 'COLAB_TPU_ADDR' in os.environ:\n",
        "  TF_MASTER = 'grpc://{}'.format(os.environ['COLAB_TPU_ADDR'])\n",
        "else:\n",
        "  TF_MASTER=''\n",
        "\n",
        "with tf.Session(TF_MASTER) as session:\n",
        "  print ('List of devices:')\n",
        "  pprint.pprint(session.list_devices())"
      ],
      "execution_count": 0,
      "outputs": [
        {
          "output_type": "stream",
          "text": [
            "List of devices:\n",
            "[_DeviceAttributes(/job:tpu_worker/replica:0/task:0/device:CPU:0, CPU, -1, 7290481272889922896),\n",
            " _DeviceAttributes(/job:tpu_worker/replica:0/task:0/device:XLA_CPU:0, XLA_CPU, 17179869184, 11969603247550039086),\n",
            " _DeviceAttributes(/job:tpu_worker/replica:0/task:0/device:TPU:0, TPU, 17179869184, 10427232135652081834),\n",
            " _DeviceAttributes(/job:tpu_worker/replica:0/task:0/device:TPU:1, TPU, 17179869184, 7242172634140884416),\n",
            " _DeviceAttributes(/job:tpu_worker/replica:0/task:0/device:TPU:2, TPU, 17179869184, 7395168267477971138),\n",
            " _DeviceAttributes(/job:tpu_worker/replica:0/task:0/device:TPU:3, TPU, 17179869184, 1514941088021691226),\n",
            " _DeviceAttributes(/job:tpu_worker/replica:0/task:0/device:TPU:4, TPU, 17179869184, 14245311141171946107),\n",
            " _DeviceAttributes(/job:tpu_worker/replica:0/task:0/device:TPU:5, TPU, 17179869184, 13014049163277534302),\n",
            " _DeviceAttributes(/job:tpu_worker/replica:0/task:0/device:TPU:6, TPU, 17179869184, 7457356830558073233),\n",
            " _DeviceAttributes(/job:tpu_worker/replica:0/task:0/device:TPU:7, TPU, 17179869184, 17846141785674529029),\n",
            " _DeviceAttributes(/job:tpu_worker/replica:0/task:0/device:TPU_SYSTEM:0, TPU_SYSTEM, 8589934592, 6168829438145669199)]\n"
          ],
          "name": "stdout"
        }
      ]
    },
    {
      "cell_type": "code",
      "metadata": {
        "id": "zfy_GdrcZnbF",
        "colab_type": "code",
        "outputId": "d4b51a69-903a-4313-fabd-736da458d652",
        "colab": {
          "base_uri": "https://localhost:8080/",
          "height": 505
        }
      },
      "source": [
        "\"Warning: THIS FUNCTION IS DEPRECATED. It will be removed after 2019-02-20. Instructions for updating: Switch to tf.contrib.distribute.TPUStrategy. https://www.tensorflow.org/api_docs/python/tf/contrib/distribute/DistributionStrategy\"\n",
        "TPU_WORKER = 'grpc://' + os.environ['COLAB_TPU_ADDR']\n",
        "tf.logging.set_verbosity(tf.logging.INFO)\n",
        "model_drop_na=get_Model()\n",
        "Adam=tf.train.AdamOptimizer(0.001)\n",
        "#(lr=0.001, beta_1=0.9, beta_2=0.999, epsilon=None, decay=0.0, amsgrad=False)\n",
        "\n",
        "file_checkpoint_name='face.h5'\n",
        "strategy=tf.contrib.tpu.TPUDistributionStrategy(tf.contrib.cluster_resolver.TPUClusterResolver(tpu=TPU_WORKER))\n",
        "model_drop_na.compile(optimizer=Adam, loss='mean_squared_error', metrics=['acc','mse'])\n",
        "resnet_model = tf.contrib.tpu.keras_to_tpu_model(model_drop_na,strategy=strategy)\n"
      ],
      "execution_count": 0,
      "outputs": [
        {
          "output_type": "stream",
          "text": [
            "WARNING:tensorflow:From /usr/local/lib/python3.6/dist-packages/tensorflow/python/ops/resource_variable_ops.py:435: colocate_with (from tensorflow.python.framework.ops) is deprecated and will be removed in a future version.\n",
            "Instructions for updating:\n",
            "Colocations handled automatically by placer.\n",
            "\n",
            "WARNING: The TensorFlow contrib module will not be included in TensorFlow 2.0.\n",
            "For more information, please see:\n",
            "  * https://github.com/tensorflow/community/blob/master/rfcs/20180907-contrib-sunset.md\n",
            "  * https://github.com/tensorflow/addons\n",
            "If you depend on functionality not listed there, please file an issue.\n",
            "\n",
            "INFO:tensorflow:Querying Tensorflow master (grpc://10.113.166.170:8470) for TPU system metadata.\n",
            "INFO:tensorflow:Found TPU system:\n",
            "INFO:tensorflow:*** Num TPU Cores: 8\n",
            "INFO:tensorflow:*** Num TPU Workers: 1\n",
            "INFO:tensorflow:*** Num TPU Cores Per Worker: 8\n",
            "INFO:tensorflow:*** Available Device: _DeviceAttributes(/job:worker/replica:0/task:0/device:CPU:0, CPU, -1, 7290481272889922896)\n",
            "INFO:tensorflow:*** Available Device: _DeviceAttributes(/job:worker/replica:0/task:0/device:XLA_CPU:0, XLA_CPU, 17179869184, 11969603247550039086)\n",
            "INFO:tensorflow:*** Available Device: _DeviceAttributes(/job:worker/replica:0/task:0/device:TPU:0, TPU, 17179869184, 10427232135652081834)\n",
            "INFO:tensorflow:*** Available Device: _DeviceAttributes(/job:worker/replica:0/task:0/device:TPU:1, TPU, 17179869184, 7242172634140884416)\n",
            "INFO:tensorflow:*** Available Device: _DeviceAttributes(/job:worker/replica:0/task:0/device:TPU:2, TPU, 17179869184, 7395168267477971138)\n",
            "INFO:tensorflow:*** Available Device: _DeviceAttributes(/job:worker/replica:0/task:0/device:TPU:3, TPU, 17179869184, 1514941088021691226)\n",
            "INFO:tensorflow:*** Available Device: _DeviceAttributes(/job:worker/replica:0/task:0/device:TPU:4, TPU, 17179869184, 14245311141171946107)\n",
            "INFO:tensorflow:*** Available Device: _DeviceAttributes(/job:worker/replica:0/task:0/device:TPU:5, TPU, 17179869184, 13014049163277534302)\n",
            "INFO:tensorflow:*** Available Device: _DeviceAttributes(/job:worker/replica:0/task:0/device:TPU:6, TPU, 17179869184, 7457356830558073233)\n",
            "INFO:tensorflow:*** Available Device: _DeviceAttributes(/job:worker/replica:0/task:0/device:TPU:7, TPU, 17179869184, 17846141785674529029)\n",
            "INFO:tensorflow:*** Available Device: _DeviceAttributes(/job:worker/replica:0/task:0/device:TPU_SYSTEM:0, TPU_SYSTEM, 8589934592, 6168829438145669199)\n",
            "WARNING:tensorflow:From /usr/local/lib/python3.6/dist-packages/tensorflow/python/keras/utils/losses_utils.py:170: to_float (from tensorflow.python.ops.math_ops) is deprecated and will be removed in a future version.\n",
            "Instructions for updating:\n",
            "Use tf.cast instead.\n",
            "WARNING:tensorflow:tpu_model (from tensorflow.contrib.tpu.python.tpu.keras_support) is experimental and may change or be removed at any time, and without warning.\n"
          ],
          "name": "stdout"
        }
      ]
    },
    {
      "cell_type": "code",
      "metadata": {
        "id": "K12-ZzzZCYyz",
        "colab_type": "code",
        "outputId": "c97edaaa-fc9d-4112-f14d-d5e94ecbca3a",
        "colab": {
          "base_uri": "https://localhost:8080/",
          "height": 293
        }
      },
      "source": [
        "from tensorflow.contrib.tpu.python.tpu import keras_support \n",
        "\n",
        "resolver = tf.contrib.cluster_resolver.TPUClusterResolver(tpu=TPU_WORKER)\n",
        "strategy = keras_support.TPUDistributionStrategy(resolver)\n",
        "keras_model = keras_support.tpu_model(get_Model(), strategy)\n"
      ],
      "execution_count": 0,
      "outputs": [
        {
          "output_type": "stream",
          "text": [
            "INFO:tensorflow:Querying Tensorflow master (grpc://10.113.166.170:8470) for TPU system metadata.\n",
            "INFO:tensorflow:Found TPU system:\n",
            "INFO:tensorflow:*** Num TPU Cores: 8\n",
            "INFO:tensorflow:*** Num TPU Workers: 1\n",
            "INFO:tensorflow:*** Num TPU Cores Per Worker: 8\n",
            "INFO:tensorflow:*** Available Device: _DeviceAttributes(/job:worker/replica:0/task:0/device:CPU:0, CPU, -1, 7290481272889922896)\n",
            "INFO:tensorflow:*** Available Device: _DeviceAttributes(/job:worker/replica:0/task:0/device:XLA_CPU:0, XLA_CPU, 17179869184, 11969603247550039086)\n",
            "INFO:tensorflow:*** Available Device: _DeviceAttributes(/job:worker/replica:0/task:0/device:TPU:0, TPU, 17179869184, 10427232135652081834)\n",
            "INFO:tensorflow:*** Available Device: _DeviceAttributes(/job:worker/replica:0/task:0/device:TPU:1, TPU, 17179869184, 7242172634140884416)\n",
            "INFO:tensorflow:*** Available Device: _DeviceAttributes(/job:worker/replica:0/task:0/device:TPU:2, TPU, 17179869184, 7395168267477971138)\n",
            "INFO:tensorflow:*** Available Device: _DeviceAttributes(/job:worker/replica:0/task:0/device:TPU:3, TPU, 17179869184, 1514941088021691226)\n",
            "INFO:tensorflow:*** Available Device: _DeviceAttributes(/job:worker/replica:0/task:0/device:TPU:4, TPU, 17179869184, 14245311141171946107)\n",
            "INFO:tensorflow:*** Available Device: _DeviceAttributes(/job:worker/replica:0/task:0/device:TPU:5, TPU, 17179869184, 13014049163277534302)\n",
            "INFO:tensorflow:*** Available Device: _DeviceAttributes(/job:worker/replica:0/task:0/device:TPU:6, TPU, 17179869184, 7457356830558073233)\n",
            "INFO:tensorflow:*** Available Device: _DeviceAttributes(/job:worker/replica:0/task:0/device:TPU:7, TPU, 17179869184, 17846141785674529029)\n",
            "INFO:tensorflow:*** Available Device: _DeviceAttributes(/job:worker/replica:0/task:0/device:TPU_SYSTEM:0, TPU_SYSTEM, 8589934592, 6168829438145669199)\n",
            "WARNING:tensorflow:tpu_model (from tensorflow.contrib.tpu.python.tpu.keras_support) is experimental and may change or be removed at any time, and without warning.\n"
          ],
          "name": "stdout"
        }
      ]
    },
    {
      "cell_type": "code",
      "metadata": {
        "id": "b13NsuKVWCzT",
        "colab_type": "code",
        "outputId": "f235dc23-111a-4265-f2e2-5516208db5a2",
        "colab": {
          "base_uri": "https://localhost:8080/",
          "height": 1000
        }
      },
      "source": [
        "img = train_images_clean.astype(np.float32)\n",
        "\n",
        "feats=train_features_clean.astype(np.float32)\n",
        "\n",
        "checkpointer = callbacks.ModelCheckpoint(filepath=file_checkpoint_name, verbose=1, save_best_only=True)\n",
        "keras_model.compile(loss='mean_squared_error', metrics=['acc','mse'], optimizer=tf.train.AdamOptimizer(0.1))\n",
        "tpu_model = tf.contrib.tpu.keras_to_tpu_model(keras_model,strategy=strategy)\n",
        "\n",
        "epochs = 30\n",
        "#history=tpu_model.fit(x=img[0:1696],y=feats[0:1696],validation_data=(img[1697:2125],feats[1697:2125]), epochs=epochs, callbacks=[checkpointer], verbose=1)\n",
        "history=tpu_model.fit(train_images_clean, train_features_clean,  validation_split=0.2, batch_size=700, epochs=epochs, callbacks=[checkpointer], verbose=1)"
      ],
      "execution_count": 0,
      "outputs": [
        {
          "output_type": "stream",
          "text": [
            "WARNING:tensorflow:tpu_model (from tensorflow.contrib.tpu.python.tpu.keras_support) is experimental and may change or be removed at any time, and without warning.\n",
            "Train on 2140 samples, validate on 428 samples\n",
            "Epoch 1/30\n",
            "INFO:tensorflow:New input shapes; (re-)compiling: mode=train (# of cores 8), [TensorSpec(shape=(87,), dtype=tf.int32, name='core_id_80'), TensorSpec(shape=(87, 96, 96, 1), dtype=tf.float32, name='input_5_20'), TensorSpec(shape=(87, 30), dtype=tf.float32, name='dense_14_target_40')]\n",
            "INFO:tensorflow:Overriding default placeholder.\n",
            "INFO:tensorflow:Remapping placeholder for input_5\n",
            "INFO:tensorflow:Started compiling\n",
            "INFO:tensorflow:Finished compiling. Time elapsed: 17.451564073562622 secs\n",
            "INFO:tensorflow:Setting weights on TPU model.\n",
            "1400/2140 [==================>...........] - ETA: 16s - loss: 86317916252800288.0000 - acc: 870.9141 - mean_squared_error: 43158958126399488.0000INFO:tensorflow:New input shapes; (re-)compiling: mode=train (# of cores 8), [TensorSpec(shape=(5,), dtype=tf.int32, name='core_id_80'), TensorSpec(shape=(5, 96, 96, 1), dtype=tf.float32, name='input_5_20'), TensorSpec(shape=(5, 30), dtype=tf.float32, name='dense_14_target_40')]\n",
            "INFO:tensorflow:Overriding default placeholder.\n",
            "INFO:tensorflow:Remapping placeholder for input_5\n",
            "INFO:tensorflow:Started compiling\n",
            "INFO:tensorflow:Finished compiling. Time elapsed: 15.254433155059814 secs\n",
            "2100/2140 [============================>.] - ETA: 1s - loss: 57545277510384656.0000 - acc: 34527164783132672.0000 - mean_squared_error: 28772636603449344.0000INFO:tensorflow:New input shapes; (re-)compiling: mode=eval (# of cores 8), [TensorSpec(shape=(53,), dtype=tf.int32, name='core_id_90'), TensorSpec(shape=(53, 96, 96, 1), dtype=tf.float32, name='input_5_20'), TensorSpec(shape=(53, 30), dtype=tf.float32, name='dense_14_target_40')]\n",
            "INFO:tensorflow:Overriding default placeholder.\n",
            "INFO:tensorflow:Remapping placeholder for input_5\n",
            "INFO:tensorflow:Started compiling\n",
            "INFO:tensorflow:Finished compiling. Time elapsed: 12.7367103099823 secs\n",
            "\n",
            "Epoch 00001: val_loss improved from inf to 2678.92334, saving model to face.h5\n",
            "INFO:tensorflow:Copying TPU weights to the CPU\n",
            "WARNING:tensorflow:TensorFlow optimizers do not make it possible to access optimizer attributes or optimizer state after instantiation. As a result, we cannot save the optimizer as part of the model save file.You will have to compile your model again after loading it. Prefer using a Keras optimizer instead (see keras.io/optimizers).\n",
            "2140/2140 [==============================] - 96s 45ms/sample - loss: 56469664846639192.0000 - acc: 28499652777082880.0000 - mean_squared_error: 28231799289151488.0000 - val_loss: 2678.9233 - val_acc: 0.0000e+00 - val_mean_squared_error: 1339.4617\n",
            "Epoch 2/30\n",
            "2100/2140 [============================>.] - ETA: 0s - loss: 2628.8718 - acc: 1052.9553 - mean_squared_error: 1314.4359\n",
            "Epoch 00002: val_loss improved from 2678.92334 to 2652.08618, saving model to face.h5\n",
            "INFO:tensorflow:Copying TPU weights to the CPU\n",
            "WARNING:tensorflow:TensorFlow optimizers do not make it possible to access optimizer attributes or optimizer state after instantiation. As a result, we cannot save the optimizer as part of the model save file.You will have to compile your model again after loading it. Prefer using a Keras optimizer instead (see keras.io/optimizers).\n",
            "2140/2140 [==============================] - 11s 5ms/sample - loss: 2628.8016 - acc: 1301.9650 - mean_squared_error: 1314.4006 - val_loss: 2652.0862 - val_acc: 0.0000e+00 - val_mean_squared_error: 1326.0431\n",
            "Epoch 3/30\n",
            "2100/2140 [============================>.] - ETA: 0s - loss: 2559.0449 - acc: 1033.5015 - mean_squared_error: 1279.5225\n",
            "Epoch 00003: val_loss improved from 2652.08618 to 2357.81470, saving model to face.h5\n",
            "INFO:tensorflow:Copying TPU weights to the CPU\n",
            "WARNING:tensorflow:TensorFlow optimizers do not make it possible to access optimizer attributes or optimizer state after instantiation. As a result, we cannot save the optimizer as part of the model save file.You will have to compile your model again after loading it. Prefer using a Keras optimizer instead (see keras.io/optimizers).\n",
            "2140/2140 [==============================] - 11s 5ms/sample - loss: 2556.9223 - acc: 1267.3828 - mean_squared_error: 1278.4553 - val_loss: 2357.8147 - val_acc: 0.0000e+00 - val_mean_squared_error: 1178.9073\n",
            "Epoch 4/30\n",
            "2100/2140 [============================>.] - ETA: 0s - loss: 2138.0483 - acc: 891.5234 - mean_squared_error: 1069.0242\n",
            "Epoch 00004: val_loss improved from 2357.81470 to 1473.14124, saving model to face.h5\n",
            "INFO:tensorflow:Copying TPU weights to the CPU\n",
            "WARNING:tensorflow:TensorFlow optimizers do not make it possible to access optimizer attributes or optimizer state after instantiation. As a result, we cannot save the optimizer as part of the model save file.You will have to compile your model again after loading it. Prefer using a Keras optimizer instead (see keras.io/optimizers).\n",
            "2140/2140 [==============================] - 11s 5ms/sample - loss: 2130.6147 - acc: 1058.8816 - mean_squared_error: 1065.2865 - val_loss: 1473.1412 - val_acc: 0.0000e+00 - val_mean_squared_error: 736.5706\n",
            "Epoch 5/30\n",
            "2100/2140 [============================>.] - ETA: 0s - loss: 1129.5205 - acc: 513.0234 - mean_squared_error: 564.7603\n",
            "Epoch 00005: val_loss improved from 1473.14124 to 395.15656, saving model to face.h5\n",
            "INFO:tensorflow:Copying TPU weights to the CPU\n",
            "WARNING:tensorflow:TensorFlow optimizers do not make it possible to access optimizer attributes or optimizer state after instantiation. As a result, we cannot save the optimizer as part of the model save file.You will have to compile your model again after loading it. Prefer using a Keras optimizer instead (see keras.io/optimizers).\n",
            "2140/2140 [==============================] - 11s 5ms/sample - loss: 1118.8690 - acc: 559.4020 - mean_squared_error: 559.4045 - val_loss: 395.1566 - val_acc: 0.0000e+00 - val_mean_squared_error: 197.5783\n",
            "Epoch 6/30\n",
            "2100/2140 [============================>.] - ETA: 0s - loss: 368.6521 - acc: 143.8811 - mean_squared_error: 184.3260\n",
            "Epoch 00006: val_loss improved from 395.15656 to 347.87735, saving model to face.h5\n",
            "INFO:tensorflow:Copying TPU weights to the CPU\n",
            "WARNING:tensorflow:TensorFlow optimizers do not make it possible to access optimizer attributes or optimizer state after instantiation. As a result, we cannot save the optimizer as part of the model save file.You will have to compile your model again after loading it. Prefer using a Keras optimizer instead (see keras.io/optimizers).\n",
            "2140/2140 [==============================] - 11s 5ms/sample - loss: 369.4669 - acc: 182.5772 - mean_squared_error: 184.7358 - val_loss: 347.8773 - val_acc: 0.0000e+00 - val_mean_squared_error: 173.9387\n",
            "Epoch 7/30\n",
            "2100/2140 [============================>.] - ETA: 0s - loss: 225.3034 - acc: 116.4605 - mean_squared_error: 112.6517\n",
            "Epoch 00007: val_loss improved from 347.87735 to 61.61339, saving model to face.h5\n",
            "INFO:tensorflow:Copying TPU weights to the CPU\n",
            "WARNING:tensorflow:TensorFlow optimizers do not make it possible to access optimizer attributes or optimizer state after instantiation. As a result, we cannot save the optimizer as part of the model save file.You will have to compile your model again after loading it. Prefer using a Keras optimizer instead (see keras.io/optimizers).\n",
            "2140/2140 [==============================] - 11s 5ms/sample - loss: 221.6586 - acc: 111.5829 - mean_squared_error: 110.8191 - val_loss: 61.6134 - val_acc: 0.0519 - val_mean_squared_error: 30.8326\n",
            "Epoch 8/30\n",
            "2100/2140 [============================>.] - ETA: 0s - loss: 113.8732 - acc: 34.7537 - mean_squared_error: 57.0535\n",
            "Epoch 00008: val_loss did not improve from 61.61339\n",
            "2140/2140 [==============================] - 6s 3ms/sample - loss: 115.1048 - acc: 56.5195 - mean_squared_error: 57.6778 - val_loss: 166.3257 - val_acc: 0.4292 - val_mean_squared_error: 83.3774\n",
            "Epoch 9/30\n",
            "2100/2140 [============================>.] - ETA: 0s - loss: 124.9979 - acc: 55.8014 - mean_squared_error: 62.8519\n",
            "Epoch 00009: val_loss did not improve from 61.61339\n",
            "2140/2140 [==============================] - 6s 3ms/sample - loss: 124.4437 - acc: 62.2620 - mean_squared_error: 62.5729 - val_loss: 98.7908 - val_acc: 0.4292 - val_mean_squared_error: 49.6100\n",
            "Epoch 10/30\n",
            "2100/2140 [============================>.] - ETA: 0s - loss: 87.5757 - acc: 38.3338 - mean_squared_error: 44.1403\n",
            "Epoch 00010: val_loss improved from 61.61339 to 31.77779, saving model to face.h5\n",
            "INFO:tensorflow:Copying TPU weights to the CPU\n",
            "WARNING:tensorflow:TensorFlow optimizers do not make it possible to access optimizer attributes or optimizer state after instantiation. As a result, we cannot save the optimizer as part of the model save file.You will have to compile your model again after loading it. Prefer using a Keras optimizer instead (see keras.io/optimizers).\n",
            "2140/2140 [==============================] - 11s 5ms/sample - loss: 86.8309 - acc: 43.7291 - mean_squared_error: 43.7667 - val_loss: 31.7778 - val_acc: 0.4292 - val_mean_squared_error: 16.1035\n",
            "Epoch 11/30\n",
            "2100/2140 [============================>.] - ETA: 0s - loss: 23.4104 - acc: 9.8194 - mean_squared_error: 12.0589\n",
            "Epoch 00011: val_loss did not improve from 31.77779\n",
            "2140/2140 [==============================] - 6s 3ms/sample - loss: 23.5717 - acc: 11.9509 - mean_squared_error: 12.1397 - val_loss: 50.0100 - val_acc: 0.4292 - val_mean_squared_error: 25.2196\n",
            "Epoch 12/30\n",
            "2100/2140 [============================>.] - ETA: 0s - loss: 38.0138 - acc: 15.9275 - mean_squared_error: 19.3586\n",
            "Epoch 00012: val_loss did not improve from 31.77779\n",
            "2140/2140 [==============================] - 6s 3ms/sample - loss: 37.8338 - acc: 19.1826 - mean_squared_error: 19.2691 - val_loss: 39.1498 - val_acc: 0.4292 - val_mean_squared_error: 19.7895\n",
            "Epoch 13/30\n",
            "2100/2140 [============================>.] - ETA: 0s - loss: 29.6173 - acc: 12.3003 - mean_squared_error: 15.1609\n",
            "Epoch 00013: val_loss did not improve from 31.77779\n",
            "2140/2140 [==============================] - 6s 3ms/sample - loss: 29.6235 - acc: 15.0240 - mean_squared_error: 15.1642 - val_loss: 34.7557 - val_acc: 0.4292 - val_mean_squared_error: 17.5925\n",
            "Epoch 14/30\n",
            "2100/2140 [============================>.] - ETA: 0s - loss: 24.1925 - acc: 11.1515 - mean_squared_error: 12.4490\n",
            "Epoch 00014: val_loss improved from 31.77779 to 21.16985, saving model to face.h5\n",
            "INFO:tensorflow:Copying TPU weights to the CPU\n",
            "WARNING:tensorflow:TensorFlow optimizers do not make it possible to access optimizer attributes or optimizer state after instantiation. As a result, we cannot save the optimizer as part of the model save file.You will have to compile your model again after loading it. Prefer using a Keras optimizer instead (see keras.io/optimizers).\n",
            "2140/2140 [==============================] - 11s 5ms/sample - loss: 24.0853 - acc: 12.3375 - mean_squared_error: 12.3950 - val_loss: 21.1698 - val_acc: 0.4292 - val_mean_squared_error: 10.7995\n",
            "Epoch 15/30\n",
            "2100/2140 [============================>.] - ETA: 0s - loss: 14.9501 - acc: 6.3151 - mean_squared_error: 7.8292\n",
            "Epoch 00015: val_loss did not improve from 21.16985\n",
            "2140/2140 [==============================] - 6s 3ms/sample - loss: 14.9657 - acc: 7.7609 - mean_squared_error: 7.8363 - val_loss: 22.5149 - val_acc: 0.4292 - val_mean_squared_error: 11.4721\n",
            "Epoch 16/30\n",
            "2100/2140 [============================>.] - ETA: 0s - loss: 14.7888 - acc: 6.4924 - mean_squared_error: 7.7467\n",
            "Epoch 00016: val_loss improved from 21.16985 to 18.50562, saving model to face.h5\n",
            "INFO:tensorflow:Copying TPU weights to the CPU\n",
            "WARNING:tensorflow:TensorFlow optimizers do not make it possible to access optimizer attributes or optimizer state after instantiation. As a result, we cannot save the optimizer as part of the model save file.You will have to compile your model again after loading it. Prefer using a Keras optimizer instead (see keras.io/optimizers).\n",
            "2140/2140 [==============================] - 11s 5ms/sample - loss: 14.7437 - acc: 7.6800 - mean_squared_error: 7.7242 - val_loss: 18.5056 - val_acc: 0.4292 - val_mean_squared_error: 9.4674\n",
            "Epoch 17/30\n",
            "2100/2140 [============================>.] - ETA: 0s - loss: 14.5957 - acc: 6.2232 - mean_squared_error: 7.6496\n",
            "Epoch 00017: val_loss improved from 18.50562 to 17.03944, saving model to face.h5\n",
            "INFO:tensorflow:Copying TPU weights to the CPU\n",
            "WARNING:tensorflow:TensorFlow optimizers do not make it possible to access optimizer attributes or optimizer state after instantiation. As a result, we cannot save the optimizer as part of the model save file.You will have to compile your model again after loading it. Prefer using a Keras optimizer instead (see keras.io/optimizers).\n",
            "2140/2140 [==============================] - 11s 5ms/sample - loss: 14.5368 - acc: 7.5839 - mean_squared_error: 7.6202 - val_loss: 17.0394 - val_acc: 0.4292 - val_mean_squared_error: 8.7343\n",
            "Epoch 18/30\n",
            "2100/2140 [============================>.] - ETA: 0s - loss: 11.7798 - acc: 5.2572 - mean_squared_error: 6.2429\n",
            "Epoch 00018: val_loss did not improve from 17.03944\n",
            "2140/2140 [==============================] - 6s 3ms/sample - loss: 11.8270 - acc: 6.1898 - mean_squared_error: 6.2661 - val_loss: 18.0589 - val_acc: 0.4292 - val_mean_squared_error: 9.2441\n",
            "Epoch 19/30\n",
            "2100/2140 [============================>.] - ETA: 0s - loss: 11.5347 - acc: 5.0498 - mean_squared_error: 6.1210\n",
            "Epoch 00019: val_loss did not improve from 17.03944\n",
            "2140/2140 [==============================] - 6s 3ms/sample - loss: 11.5438 - acc: 6.0691 - mean_squared_error: 6.1251 - val_loss: 17.4278 - val_acc: 0.4292 - val_mean_squared_error: 8.9285\n",
            "Epoch 20/30\n",
            "2100/2140 [============================>.] - ETA: 0s - loss: 11.2799 - acc: 4.7962 - mean_squared_error: 5.9939\n",
            "Epoch 00020: val_loss did not improve from 17.03944\n",
            "2140/2140 [==============================] - 6s 3ms/sample - loss: 11.2942 - acc: 5.9434 - mean_squared_error: 6.0008 - val_loss: 17.5530 - val_acc: 0.4292 - val_mean_squared_error: 8.9911\n",
            "Epoch 21/30\n",
            "2100/2140 [============================>.] - ETA: 0s - loss: 10.7749 - acc: 4.7691 - mean_squared_error: 5.7421\n",
            "Epoch 00021: val_loss did not improve from 17.03944\n",
            "2140/2140 [==============================] - 6s 3ms/sample - loss: 10.7765 - acc: 5.6921 - mean_squared_error: 5.7407 - val_loss: 18.1694 - val_acc: 0.4292 - val_mean_squared_error: 9.2993\n",
            "Epoch 22/30\n",
            "2100/2140 [============================>.] - ETA: 0s - loss: 10.6991 - acc: 4.7827 - mean_squared_error: 5.7027\n",
            "Epoch 00022: val_loss improved from 17.03944 to 16.69404, saving model to face.h5\n",
            "INFO:tensorflow:Copying TPU weights to the CPU\n",
            "WARNING:tensorflow:TensorFlow optimizers do not make it possible to access optimizer attributes or optimizer state after instantiation. As a result, we cannot save the optimizer as part of the model save file.You will have to compile your model again after loading it. Prefer using a Keras optimizer instead (see keras.io/optimizers).\n",
            "2140/2140 [==============================] - 11s 5ms/sample - loss: 10.6757 - acc: 5.6550 - mean_squared_error: 5.6907 - val_loss: 16.6940 - val_acc: 0.4292 - val_mean_squared_error: 8.5616\n",
            "Epoch 23/30\n",
            "2100/2140 [============================>.] - ETA: 0s - loss: 10.4583 - acc: 4.5888 - mean_squared_error: 5.5814\n",
            "Epoch 00023: val_loss improved from 16.69404 to 16.41477, saving model to face.h5\n",
            "INFO:tensorflow:Copying TPU weights to the CPU\n",
            "WARNING:tensorflow:TensorFlow optimizers do not make it possible to access optimizer attributes or optimizer state after instantiation. As a result, we cannot save the optimizer as part of the model save file.You will have to compile your model again after loading it. Prefer using a Keras optimizer instead (see keras.io/optimizers).\n",
            "2140/2140 [==============================] - 11s 5ms/sample - loss: 10.4663 - acc: 5.5353 - mean_squared_error: 5.5856 - val_loss: 16.4148 - val_acc: 0.4292 - val_mean_squared_error: 8.4220\n",
            "Epoch 24/30\n",
            "2100/2140 [============================>.] - ETA: 0s - loss: 10.4311 - acc: 4.5129 - mean_squared_error: 5.5695\n",
            "Epoch 00024: val_loss did not improve from 16.41477\n",
            "2140/2140 [==============================] - 6s 3ms/sample - loss: 10.4079 - acc: 5.5226 - mean_squared_error: 5.5570 - val_loss: 16.5517 - val_acc: 0.4292 - val_mean_squared_error: 8.4905\n",
            "Epoch 25/30\n",
            "2100/2140 [============================>.] - ETA: 0s - loss: 10.2505 - acc: 4.6153 - mean_squared_error: 5.4782\n",
            "Epoch 00025: val_loss improved from 16.41477 to 16.36789, saving model to face.h5\n",
            "INFO:tensorflow:Copying TPU weights to the CPU\n",
            "WARNING:tensorflow:TensorFlow optimizers do not make it possible to access optimizer attributes or optimizer state after instantiation. As a result, we cannot save the optimizer as part of the model save file.You will have to compile your model again after loading it. Prefer using a Keras optimizer instead (see keras.io/optimizers).\n",
            "2140/2140 [==============================] - 11s 5ms/sample - loss: 10.2210 - acc: 5.4329 - mean_squared_error: 5.4633 - val_loss: 16.3679 - val_acc: 0.4292 - val_mean_squared_error: 8.3986\n",
            "Epoch 26/30\n",
            "2100/2140 [============================>.] - ETA: 0s - loss: 10.2933 - acc: 4.4002 - mean_squared_error: 5.4986\n",
            "Epoch 00026: val_loss did not improve from 16.36789\n",
            "2140/2140 [==============================] - 6s 3ms/sample - loss: 10.2553 - acc: 5.4541 - mean_squared_error: 5.4804 - val_loss: 16.4047 - val_acc: 0.4292 - val_mean_squared_error: 8.4170\n",
            "Epoch 27/30\n",
            "2100/2140 [============================>.] - ETA: 0s - loss: 10.2218 - acc: 4.4768 - mean_squared_error: 5.4638\n",
            "Epoch 00027: val_loss did not improve from 16.36789\n",
            "2140/2140 [==============================] - 6s 3ms/sample - loss: 10.2247 - acc: 5.4184 - mean_squared_error: 5.4650 - val_loss: 16.6453 - val_acc: 0.4292 - val_mean_squared_error: 8.5373\n",
            "Epoch 28/30\n",
            "2100/2140 [============================>.] - ETA: 0s - loss: 10.2066 - acc: 4.5355 - mean_squared_error: 5.4565\n",
            "Epoch 00028: val_loss did not improve from 16.36789\n",
            "2140/2140 [==============================] - 6s 3ms/sample - loss: 10.1761 - acc: 5.4109 - mean_squared_error: 5.4406 - val_loss: 17.3796 - val_acc: 0.4292 - val_mean_squared_error: 8.9044\n",
            "Epoch 29/30\n",
            "2100/2140 [============================>.] - ETA: 0s - loss: 10.3746 - acc: 4.6207 - mean_squared_error: 5.5388\n",
            "Epoch 00029: val_loss improved from 16.36789 to 16.33819, saving model to face.h5\n",
            "INFO:tensorflow:Copying TPU weights to the CPU\n",
            "WARNING:tensorflow:TensorFlow optimizers do not make it possible to access optimizer attributes or optimizer state after instantiation. As a result, we cannot save the optimizer as part of the model save file.You will have to compile your model again after loading it. Prefer using a Keras optimizer instead (see keras.io/optimizers).\n",
            "2140/2140 [==============================] - 11s 5ms/sample - loss: 10.3717 - acc: 5.4939 - mean_squared_error: 5.5383 - val_loss: 16.3382 - val_acc: 0.4292 - val_mean_squared_error: 8.3837\n",
            "Epoch 30/30\n",
            "2100/2140 [============================>.] - ETA: 0s - loss: 10.2913 - acc: 4.5720 - mean_squared_error: 5.4979\n",
            "Epoch 00030: val_loss improved from 16.33819 to 16.25769, saving model to face.h5\n",
            "INFO:tensorflow:Copying TPU weights to the CPU\n",
            "WARNING:tensorflow:TensorFlow optimizers do not make it possible to access optimizer attributes or optimizer state after instantiation. As a result, we cannot save the optimizer as part of the model save file.You will have to compile your model again after loading it. Prefer using a Keras optimizer instead (see keras.io/optimizers).\n",
            "2140/2140 [==============================] - 11s 5ms/sample - loss: 10.2925 - acc: 5.4524 - mean_squared_error: 5.4985 - val_loss: 16.2577 - val_acc: 0.4292 - val_mean_squared_error: 8.3435\n"
          ],
          "name": "stdout"
        }
      ]
    },
    {
      "cell_type": "code",
      "metadata": {
        "id": "To1jQCYqZKUP",
        "colab_type": "code",
        "outputId": "553adce2-68c3-4bac-f9f9-d7a781023758",
        "colab": {
          "base_uri": "https://localhost:8080/",
          "height": 1000
        }
      },
      "source": [
        "model_drop_na=get_Model()\n",
        "Adam=tf.train.AdamOptimizer(0.1)\n",
        "\n",
        "\n",
        "file_checkpoint_name='face.h5'\n",
        "strategy=tf.contrib.tpu.TPUDistributionStrategy(tf.contrib.cluster_resolver.TPUClusterResolver(tpu=TPU_WORKER))\n",
        "model_drop_na.compile(optimizer=Adam, loss='mean_squared_error', metrics=['acc','mse'])\n",
        "resnet_model = tf.contrib.tpu.keras_to_tpu_model(model_drop_na,strategy=strategy)\n",
        "history=resnet_model.fit(train_images_clean, train_features_clean,  validation_split=0.2, batch_size=700, epochs=epochs, callbacks=[checkpointer], verbose=1)"
      ],
      "execution_count": 0,
      "outputs": [
        {
          "output_type": "stream",
          "text": [
            "INFO:tensorflow:Querying Tensorflow master (grpc://10.113.166.170:8470) for TPU system metadata.\n",
            "INFO:tensorflow:Found TPU system:\n",
            "INFO:tensorflow:*** Num TPU Cores: 8\n",
            "INFO:tensorflow:*** Num TPU Workers: 1\n",
            "INFO:tensorflow:*** Num TPU Cores Per Worker: 8\n",
            "INFO:tensorflow:*** Available Device: _DeviceAttributes(/job:worker/replica:0/task:0/device:CPU:0, CPU, -1, 7290481272889922896)\n",
            "INFO:tensorflow:*** Available Device: _DeviceAttributes(/job:worker/replica:0/task:0/device:XLA_CPU:0, XLA_CPU, 17179869184, 11969603247550039086)\n",
            "INFO:tensorflow:*** Available Device: _DeviceAttributes(/job:worker/replica:0/task:0/device:TPU:0, TPU, 17179869184, 10427232135652081834)\n",
            "INFO:tensorflow:*** Available Device: _DeviceAttributes(/job:worker/replica:0/task:0/device:TPU:1, TPU, 17179869184, 7242172634140884416)\n",
            "INFO:tensorflow:*** Available Device: _DeviceAttributes(/job:worker/replica:0/task:0/device:TPU:2, TPU, 17179869184, 7395168267477971138)\n",
            "INFO:tensorflow:*** Available Device: _DeviceAttributes(/job:worker/replica:0/task:0/device:TPU:3, TPU, 17179869184, 1514941088021691226)\n",
            "INFO:tensorflow:*** Available Device: _DeviceAttributes(/job:worker/replica:0/task:0/device:TPU:4, TPU, 17179869184, 14245311141171946107)\n",
            "INFO:tensorflow:*** Available Device: _DeviceAttributes(/job:worker/replica:0/task:0/device:TPU:5, TPU, 17179869184, 13014049163277534302)\n",
            "INFO:tensorflow:*** Available Device: _DeviceAttributes(/job:worker/replica:0/task:0/device:TPU:6, TPU, 17179869184, 7457356830558073233)\n",
            "INFO:tensorflow:*** Available Device: _DeviceAttributes(/job:worker/replica:0/task:0/device:TPU:7, TPU, 17179869184, 17846141785674529029)\n",
            "INFO:tensorflow:*** Available Device: _DeviceAttributes(/job:worker/replica:0/task:0/device:TPU_SYSTEM:0, TPU_SYSTEM, 8589934592, 6168829438145669199)\n",
            "WARNING:tensorflow:tpu_model (from tensorflow.contrib.tpu.python.tpu.keras_support) is experimental and may change or be removed at any time, and without warning.\n",
            "Train on 2140 samples, validate on 428 samples\n",
            "Epoch 1/30\n",
            "INFO:tensorflow:New input shapes; (re-)compiling: mode=train (# of cores 8), [TensorSpec(shape=(87,), dtype=tf.int32, name='core_id_40'), TensorSpec(shape=(87, 96, 96, 1), dtype=tf.float32, name='input_3_10'), TensorSpec(shape=(87, 30), dtype=tf.float32, name='dense_8_target_30')]\n",
            "INFO:tensorflow:Overriding default placeholder.\n",
            "INFO:tensorflow:Remapping placeholder for input_3\n",
            "INFO:tensorflow:Started compiling\n",
            "INFO:tensorflow:Finished compiling. Time elapsed: 12.850225687026978 secs\n",
            "INFO:tensorflow:Setting weights on TPU model.\n",
            "1400/2140 [==================>...........] - ETA: 12s - loss: 483511921941677312.0000 - acc: 871.4258 - mean_squared_error: 241755960970838016.0000INFO:tensorflow:New input shapes; (re-)compiling: mode=train (# of cores 8), [TensorSpec(shape=(5,), dtype=tf.int32, name='core_id_40'), TensorSpec(shape=(5, 96, 96, 1), dtype=tf.float32, name='input_3_10'), TensorSpec(shape=(5, 30), dtype=tf.float32, name='dense_8_target_30')]\n",
            "INFO:tensorflow:Overriding default placeholder.\n",
            "INFO:tensorflow:Remapping placeholder for input_3\n",
            "INFO:tensorflow:Started compiling\n",
            "INFO:tensorflow:Finished compiling. Time elapsed: 10.342171430587769 secs\n",
            "2100/2140 [============================>.] - ETA: 0s - loss: 322341281365347072.0000 - acc: 193404765340696576.0000 - mean_squared_error: 161170640647225344.0000INFO:tensorflow:New input shapes; (re-)compiling: mode=eval (# of cores 8), [TensorSpec(shape=(53,), dtype=tf.int32, name='core_id_50'), TensorSpec(shape=(53, 96, 96, 1), dtype=tf.float32, name='input_3_10'), TensorSpec(shape=(53, 30), dtype=tf.float32, name='dense_8_target_30')]\n",
            "INFO:tensorflow:Overriding default placeholder.\n",
            "INFO:tensorflow:Remapping placeholder for input_3\n",
            "INFO:tensorflow:Started compiling\n",
            "INFO:tensorflow:Finished compiling. Time elapsed: 7.79414176940918 secs\n",
            "\n",
            "Epoch 00001: val_loss did not improve from 1084.86019\n",
            "2140/2140 [==============================] - 58s 27ms/sample - loss: 316316210685621056.0000 - acc: 159641512030765056.0000 - mean_squared_error: 158141125335449600.0000 - val_loss: 2681.1992 - val_acc: 0.0519 - val_mean_squared_error: 1340.6256\n",
            "Epoch 2/30\n",
            "2100/2140 [============================>.] - ETA: 0s - loss: 2599.5056 - acc: 1048.6023 - mean_squared_error: 1299.7539\n",
            "Epoch 00002: val_loss did not improve from 1084.86019\n",
            "2140/2140 [==============================] - 6s 3ms/sample - loss: 2596.1367 - acc: 1287.4224 - mean_squared_error: 1298.0601 - val_loss: 2264.8799 - val_acc: 0.0000e+00 - val_mean_squared_error: 1132.4399\n",
            "Epoch 3/30\n",
            "2100/2140 [============================>.] - ETA: 0s - loss: 1814.5414 - acc: 815.9874 - mean_squared_error: 907.2707 \n",
            "Epoch 00003: val_loss improved from 1084.86019 to 349.18625, saving model to face.h5\n",
            "INFO:tensorflow:Copying TPU weights to the CPU\n",
            "WARNING:tensorflow:TensorFlow optimizers do not make it possible to access optimizer attributes or optimizer state after instantiation. As a result, we cannot save the optimizer as part of the model save file.You will have to compile your model again after loading it. Prefer using a Keras optimizer instead (see keras.io/optimizers).\n",
            "2140/2140 [==============================] - 15s 7ms/sample - loss: 1795.3956 - acc: 898.6628 - mean_squared_error: 897.6439 - val_loss: 349.1862 - val_acc: 0.0000e+00 - val_mean_squared_error: 174.5931\n",
            "Epoch 4/30\n",
            "2100/2140 [============================>.] - ETA: 0s - loss: 527.1156 - acc: 164.4006 - mean_squared_error: 263.5599\n",
            "Epoch 00004: val_loss improved from 349.18625 to 186.24956, saving model to face.h5\n",
            "INFO:tensorflow:Copying TPU weights to the CPU\n",
            "WARNING:tensorflow:TensorFlow optimizers do not make it possible to access optimizer attributes or optimizer state after instantiation. As a result, we cannot save the optimizer as part of the model save file.You will have to compile your model again after loading it. Prefer using a Keras optimizer instead (see keras.io/optimizers).\n",
            "2140/2140 [==============================] - 9s 4ms/sample - loss: 527.4244 - acc: 261.0594 - mean_squared_error: 263.7152 - val_loss: 186.2496 - val_acc: 0.4292 - val_mean_squared_error: 93.3394\n",
            "Epoch 5/30\n",
            "2100/2140 [============================>.] - ETA: 0s - loss: 85.6992 - acc: 43.3475 - mean_squared_error: 43.2019 \n",
            "Epoch 00005: val_loss did not improve from 186.24956\n",
            "2140/2140 [==============================] - 6s 3ms/sample - loss: 86.6937 - acc: 42.7993 - mean_squared_error: 43.7026 - val_loss: 247.9068 - val_acc: 0.4292 - val_mean_squared_error: 124.1680\n",
            "Epoch 6/30\n",
            "2100/2140 [============================>.] - ETA: 0s - loss: 253.9684 - acc: 100.0723 - mean_squared_error: 127.3364\n",
            "Epoch 00006: val_loss did not improve from 186.24956\n",
            "2140/2140 [==============================] - 6s 3ms/sample - loss: 253.4544 - acc: 126.1354 - mean_squared_error: 127.0784 - val_loss: 198.5874 - val_acc: 0.4292 - val_mean_squared_error: 99.5083\n",
            "Epoch 7/30\n",
            "2100/2140 [============================>.] - ETA: 0s - loss: 168.7688 - acc: 69.2844 - mean_squared_error: 84.7362\n",
            "Epoch 00007: val_loss improved from 186.24956 to 154.74840, saving model to face.h5\n",
            "INFO:tensorflow:Copying TPU weights to the CPU\n",
            "WARNING:tensorflow:TensorFlow optimizers do not make it possible to access optimizer attributes or optimizer state after instantiation. As a result, we cannot save the optimizer as part of the model save file.You will have to compile your model again after loading it. Prefer using a Keras optimizer instead (see keras.io/optimizers).\n",
            "2140/2140 [==============================] - 9s 4ms/sample - loss: 168.8516 - acc: 83.9396 - mean_squared_error: 84.7785 - val_loss: 154.7484 - val_acc: 0.4292 - val_mean_squared_error: 77.5888\n",
            "Epoch 8/30\n",
            "2100/2140 [============================>.] - ETA: 0s - loss: 106.0647 - acc: 52.1726 - mean_squared_error: 53.3841\n",
            "Epoch 00008: val_loss improved from 154.74840 to 25.98668, saving model to face.h5\n",
            "INFO:tensorflow:Copying TPU weights to the CPU\n",
            "WARNING:tensorflow:TensorFlow optimizers do not make it possible to access optimizer attributes or optimizer state after instantiation. As a result, we cannot save the optimizer as part of the model save file.You will have to compile your model again after loading it. Prefer using a Keras optimizer instead (see keras.io/optimizers).\n",
            "2140/2140 [==============================] - 9s 4ms/sample - loss: 104.5870 - acc: 52.8850 - mean_squared_error: 52.6418 - val_loss: 25.9867 - val_acc: 0.4292 - val_mean_squared_error: 13.2080\n",
            "Epoch 9/30\n",
            "2100/2140 [============================>.] - ETA: 0s - loss: 25.2303 - acc: 8.5683 - mean_squared_error: 12.9683\n",
            "Epoch 00009: val_loss did not improve from 25.98668\n",
            "2140/2140 [==============================] - 6s 3ms/sample - loss: 25.5852 - acc: 12.8515 - mean_squared_error: 13.1463 - val_loss: 49.6918 - val_acc: 0.4292 - val_mean_squared_error: 25.0605\n",
            "Epoch 10/30\n",
            "2100/2140 [============================>.] - ETA: 0s - loss: 41.3184 - acc: 16.7828 - mean_squared_error: 21.0114\n",
            "Epoch 00010: val_loss did not improve from 25.98668\n",
            "2140/2140 [==============================] - 6s 3ms/sample - loss: 41.4491 - acc: 20.8197 - mean_squared_error: 21.0781 - val_loss: 54.9743 - val_acc: 0.4292 - val_mean_squared_error: 27.7018\n",
            "Epoch 11/30\n",
            "2100/2140 [============================>.] - ETA: 0s - loss: 47.1357 - acc: 20.7396 - mean_squared_error: 23.9208\n",
            "Epoch 00011: val_loss did not improve from 25.98668\n",
            "2140/2140 [==============================] - 6s 3ms/sample - loss: 46.8479 - acc: 23.7003 - mean_squared_error: 23.7758 - val_loss: 30.9896 - val_acc: 0.4292 - val_mean_squared_error: 15.7094\n",
            "Epoch 12/30\n",
            "2100/2140 [============================>.] - ETA: 0s - loss: 22.0605 - acc: 9.9097 - mean_squared_error: 11.3827\n",
            "Epoch 00012: val_loss improved from 25.98668 to 20.86850, saving model to face.h5\n",
            "INFO:tensorflow:Copying TPU weights to the CPU\n",
            "WARNING:tensorflow:TensorFlow optimizers do not make it possible to access optimizer attributes or optimizer state after instantiation. As a result, we cannot save the optimizer as part of the model save file.You will have to compile your model again after loading it. Prefer using a Keras optimizer instead (see keras.io/optimizers).\n",
            "2140/2140 [==============================] - 9s 4ms/sample - loss: 21.9878 - acc: 11.2814 - mean_squared_error: 11.3462 - val_loss: 20.8685 - val_acc: 0.4292 - val_mean_squared_error: 10.6489\n",
            "Epoch 13/30\n",
            "2100/2140 [============================>.] - ETA: 0s - loss: 13.1176 - acc: 5.7414 - mean_squared_error: 6.9110\n",
            "Epoch 00013: val_loss did not improve from 20.86850\n",
            "2140/2140 [==============================] - 6s 3ms/sample - loss: 13.1397 - acc: 6.8523 - mean_squared_error: 6.9223 - val_loss: 21.6781 - val_acc: 0.4292 - val_mean_squared_error: 11.0537\n",
            "Epoch 14/30\n",
            "2100/2140 [============================>.] - ETA: 0s - loss: 16.7295 - acc: 7.0499 - mean_squared_error: 8.7177\n",
            "Epoch 00014: val_loss did not improve from 20.86850\n",
            "2140/2140 [==============================] - 6s 3ms/sample - loss: 16.7261 - acc: 8.6416 - mean_squared_error: 8.7160 - val_loss: 22.4998 - val_acc: 0.4292 - val_mean_squared_error: 11.4645\n",
            "Epoch 15/30\n",
            "2100/2140 [============================>.] - ETA: 0s - loss: 15.2889 - acc: 6.5751 - mean_squared_error: 7.9979\n",
            "Epoch 00015: val_loss improved from 20.86850 to 20.60504, saving model to face.h5\n",
            "INFO:tensorflow:Copying TPU weights to the CPU\n",
            "WARNING:tensorflow:TensorFlow optimizers do not make it possible to access optimizer attributes or optimizer state after instantiation. As a result, we cannot save the optimizer as part of the model save file.You will have to compile your model again after loading it. Prefer using a Keras optimizer instead (see keras.io/optimizers).\n",
            "2140/2140 [==============================] - 9s 4ms/sample - loss: 15.2375 - acc: 7.9280 - mean_squared_error: 7.9713 - val_loss: 20.6050 - val_acc: 0.4292 - val_mean_squared_error: 10.5171\n",
            "Epoch 16/30\n",
            "2100/2140 [============================>.] - ETA: 0s - loss: 12.2345 - acc: 5.4442 - mean_squared_error: 6.4697\n",
            "Epoch 00016: val_loss improved from 20.60504 to 17.56291, saving model to face.h5\n",
            "INFO:tensorflow:Copying TPU weights to the CPU\n",
            "WARNING:tensorflow:TensorFlow optimizers do not make it possible to access optimizer attributes or optimizer state after instantiation. As a result, we cannot save the optimizer as part of the model save file.You will have to compile your model again after loading it. Prefer using a Keras optimizer instead (see keras.io/optimizers).\n",
            "2140/2140 [==============================] - 9s 4ms/sample - loss: 12.1887 - acc: 6.4150 - mean_squared_error: 6.4467 - val_loss: 17.5629 - val_acc: 0.4292 - val_mean_squared_error: 8.9961\n",
            "Epoch 17/30\n",
            "2100/2140 [============================>.] - ETA: 0s - loss: 11.5125 - acc: 5.1043 - mean_squared_error: 6.1080\n",
            "Epoch 00017: val_loss did not improve from 17.56291\n",
            "2140/2140 [==============================] - 6s 3ms/sample - loss: 11.4907 - acc: 6.0576 - mean_squared_error: 6.0980 - val_loss: 17.5744 - val_acc: 0.4292 - val_mean_squared_error: 9.0018\n",
            "Epoch 18/30\n",
            "2100/2140 [============================>.] - ETA: 0s - loss: 11.3437 - acc: 4.7833 - mean_squared_error: 6.0251\n",
            "Epoch 00018: val_loss did not improve from 17.56291\n",
            "2140/2140 [==============================] - 6s 3ms/sample - loss: 11.3346 - acc: 5.9738 - mean_squared_error: 6.0197 - val_loss: 17.8133 - val_acc: 0.4292 - val_mean_squared_error: 9.1213\n",
            "Epoch 19/30\n",
            "2100/2140 [============================>.] - ETA: 0s - loss: 10.9635 - acc: 4.9175 - mean_squared_error: 5.8340\n",
            "Epoch 00019: val_loss improved from 17.56291 to 16.38490, saving model to face.h5\n",
            "INFO:tensorflow:Copying TPU weights to the CPU\n",
            "WARNING:tensorflow:TensorFlow optimizers do not make it possible to access optimizer attributes or optimizer state after instantiation. As a result, we cannot save the optimizer as part of the model save file.You will have to compile your model again after loading it. Prefer using a Keras optimizer instead (see keras.io/optimizers).\n",
            "2140/2140 [==============================] - 9s 4ms/sample - loss: 10.9289 - acc: 5.7855 - mean_squared_error: 5.8168 - val_loss: 16.3849 - val_acc: 0.4292 - val_mean_squared_error: 8.4071\n",
            "Epoch 20/30\n",
            "2100/2140 [============================>.] - ETA: 0s - loss: 10.6621 - acc: 4.6673 - mean_squared_error: 5.6850\n",
            "Epoch 00020: val_loss did not improve from 16.38490\n",
            "2140/2140 [==============================] - 6s 3ms/sample - loss: 10.6482 - acc: 5.6365 - mean_squared_error: 5.6767 - val_loss: 16.9312 - val_acc: 0.4292 - val_mean_squared_error: 8.6802\n",
            "Epoch 21/30\n",
            "2100/2140 [============================>.] - ETA: 0s - loss: 10.6991 - acc: 4.6171 - mean_squared_error: 5.7033\n",
            "Epoch 00021: val_loss did not improve from 16.38490\n",
            "2140/2140 [==============================] - 6s 3ms/sample - loss: 10.6735 - acc: 5.6556 - mean_squared_error: 5.6901 - val_loss: 16.7456 - val_acc: 0.4292 - val_mean_squared_error: 8.5874\n",
            "Epoch 22/30\n",
            "2100/2140 [============================>.] - ETA: 0s - loss: 10.3690 - acc: 4.5817 - mean_squared_error: 5.5365\n",
            "Epoch 00022: val_loss did not improve from 16.38490\n",
            "2140/2140 [==============================] - 6s 3ms/sample - loss: 10.3863 - acc: 5.4911 - mean_squared_error: 5.5456 - val_loss: 16.4720 - val_acc: 0.4292 - val_mean_squared_error: 8.4506\n",
            "Epoch 23/30\n",
            "2100/2140 [============================>.] - ETA: 0s - loss: 10.4370 - acc: 4.6126 - mean_squared_error: 5.5710\n",
            "Epoch 00023: val_loss did not improve from 16.38490\n",
            "2140/2140 [==============================] - 6s 3ms/sample - loss: 10.4491 - acc: 5.5248 - mean_squared_error: 5.5770 - val_loss: 17.0519 - val_acc: 0.4292 - val_mean_squared_error: 8.7405\n",
            "Epoch 24/30\n",
            "2100/2140 [============================>.] - ETA: 0s - loss: 10.4547 - acc: 4.7389 - mean_squared_error: 5.5803\n",
            "Epoch 00024: val_loss did not improve from 16.38490\n",
            "2140/2140 [==============================] - 6s 3ms/sample - loss: 10.4624 - acc: 5.5340 - mean_squared_error: 5.5841 - val_loss: 16.7146 - val_acc: 0.4292 - val_mean_squared_error: 8.5719\n",
            "Epoch 25/30\n",
            "2100/2140 [============================>.] - ETA: 0s - loss: 10.2584 - acc: 4.5666 - mean_squared_error: 5.4829\n",
            "Epoch 00025: val_loss did not improve from 16.38490\n",
            "2140/2140 [==============================] - 6s 3ms/sample - loss: 10.2780 - acc: 5.4370 - mean_squared_error: 5.4922 - val_loss: 16.4946 - val_acc: 0.4292 - val_mean_squared_error: 8.4619\n",
            "Epoch 26/30\n",
            "2100/2140 [============================>.] - ETA: 0s - loss: 10.2437 - acc: 4.4287 - mean_squared_error: 5.4732\n",
            "Epoch 00026: val_loss did not improve from 16.38490\n",
            "2140/2140 [==============================] - 6s 3ms/sample - loss: 10.2462 - acc: 5.4288 - mean_squared_error: 5.4753 - val_loss: 16.8907 - val_acc: 0.4292 - val_mean_squared_error: 8.6600\n",
            "Epoch 27/30\n",
            "2100/2140 [============================>.] - ETA: 0s - loss: 10.2090 - acc: 4.3551 - mean_squared_error: 5.4577\n",
            "Epoch 00027: val_loss improved from 16.38490 to 16.26010, saving model to face.h5\n",
            "INFO:tensorflow:Copying TPU weights to the CPU\n",
            "WARNING:tensorflow:TensorFlow optimizers do not make it possible to access optimizer attributes or optimizer state after instantiation. As a result, we cannot save the optimizer as part of the model save file.You will have to compile your model again after loading it. Prefer using a Keras optimizer instead (see keras.io/optimizers).\n",
            "2140/2140 [==============================] - 9s 4ms/sample - loss: 10.2477 - acc: 5.4123 - mean_squared_error: 5.4769 - val_loss: 16.2601 - val_acc: 0.4292 - val_mean_squared_error: 8.3447\n",
            "Epoch 28/30\n",
            "2100/2140 [============================>.] - ETA: 0s - loss: 10.2178 - acc: 4.4709 - mean_squared_error: 5.4612\n",
            "Epoch 00028: val_loss did not improve from 16.26010\n",
            "2140/2140 [==============================] - 6s 3ms/sample - loss: 10.2534 - acc: 5.4165 - mean_squared_error: 5.4795 - val_loss: 16.5119 - val_acc: 0.4292 - val_mean_squared_error: 8.4705\n",
            "Epoch 29/30\n",
            "2100/2140 [============================>.] - ETA: 0s - loss: 10.2295 - acc: 4.5747 - mean_squared_error: 5.4675\n",
            "Epoch 00029: val_loss did not improve from 16.26010\n",
            "2140/2140 [==============================] - 6s 3ms/sample - loss: 10.2355 - acc: 5.4222 - mean_squared_error: 5.4704 - val_loss: 16.2920 - val_acc: 0.4292 - val_mean_squared_error: 8.3606\n",
            "Epoch 30/30\n",
            "2100/2140 [============================>.] - ETA: 0s - loss: 10.1832 - acc: 4.5106 - mean_squared_error: 5.4448\n",
            "Epoch 00030: val_loss did not improve from 16.26010\n",
            "2140/2140 [==============================] - 6s 3ms/sample - loss: 10.1923 - acc: 5.4000 - mean_squared_error: 5.4496 - val_loss: 16.3068 - val_acc: 0.4292 - val_mean_squared_error: 8.3680\n"
          ],
          "name": "stdout"
        }
      ]
    },
    {
      "cell_type": "code",
      "metadata": {
        "id": "9uYbH1hSoclh",
        "colab_type": "code",
        "colab": {}
      },
      "source": [
        "\n",
        "learning_rate=0.001\n",
        "model_drop_na=model\n",
        "opt = tf.train.AdamOptimizer(learning_rate)\n",
        "model_drop_na.compile(optimizer=opt, loss='mean_squared_error', metrics=['acc','mse'])\n",
        "#save_model(model_drop_na,'124446.model')\n",
        "tpu_model = tf.contrib.tpu.keras_to_tpu_model(\n",
        "    model_drop_na,\n",
        "    strategy=tf.contrib.tpu.TPUDistributionStrategy(\n",
        "        tf.contrib.cluster_resolver.TPUClusterResolver(TPU_ADDRESS)))"
      ],
      "execution_count": 0,
      "outputs": []
    },
    {
      "cell_type": "code",
      "metadata": {
        "id": "Y36xr1VWioTO",
        "colab_type": "code",
        "colab": {}
      },
      "source": [
        "def plot_history(history):\n",
        "  pyplot=plt\n",
        "  pyplot.subplot(211)\n",
        "  pyplot.title('Loss')\n",
        "  pyplot.plot(history.history['loss'], label='train')\n",
        "  pyplot.plot(history.history['val_loss'], label='test')\n",
        "  pyplot.legend()\n",
        "  # plot mse during training\n",
        "  pyplot.subplot(212)\n",
        "  pyplot.title('Mean Squared Error')\n",
        "  #pyplot.plot(history.history['mean_squared_error'], label='train')\n",
        "  #pyplot.plot(history.history['val_mean_squared_error'], label='test')\n",
        "  pyplot.plot(history.history['acc'], label='train')\n",
        "  pyplot.plot(history.history['val_acc'], label='test')\n",
        "  pyplot.legend()\n",
        "  pyplot.show()\n",
        "plot_history(history)"
      ],
      "execution_count": 0,
      "outputs": []
    },
    {
      "cell_type": "code",
      "metadata": {
        "id": "5dEZQfNHl5PV",
        "colab_type": "code",
        "colab": {}
      },
      "source": [
        "# evaluate the model\n",
        "train_mse = model_drop_na.evaluate(train_images_clean, train_features_clean, verbose=0)\n",
        "test_mse = model_drop_na.evaluate(train_images_cnn, train_features_cnn, verbose=0)\n",
        "print('Train: %.3f, Test: %.3f' % (train_mse, test_mse))\n",
        "# plot loss during training"
      ],
      "execution_count": 0,
      "outputs": []
    },
    {
      "cell_type": "code",
      "metadata": {
        "id": "6CqGLzNis-XH",
        "colab_type": "code",
        "colab": {}
      },
      "source": [
        "def plot_test_single(predicted_points,image, index):\n",
        "  '''shows predicted features on image\n",
        "  \n",
        "  requires:\n",
        "  - test_images'''\n",
        "  x_points = []\n",
        "  y_points = []\n",
        "\n",
        "  # split into x coords and y coords\n",
        "  for i in range(15):\n",
        "    x_points.append(predicted_points[i*2])\n",
        "    y_points.append(predicted_points[i*2+1])\n",
        "    \n",
        "  ax = plt.subplot(1,1,1)\n",
        "  ax.imshow(image.reshape(96,96),cmap='gray')\n",
        "  #ax.get_xaxis().set_visible(False)\n",
        "  #ax.get_yaxis().set_visible(False)\n",
        "  ax.scatter(x=x_points, y=y_points, c='r', s=20)\n",
        "index=200\n",
        "predicted_points=model_drop_na.predict(test_images_cnn[index].reshape(1,96,96,1), batch_size=1)\n",
        "\n",
        "plot_test_single(predicted_points[0],test_images_cnn[index], index)\n"
      ],
      "execution_count": 0,
      "outputs": []
    },
    {
      "cell_type": "code",
      "metadata": {
        "id": "Qp57tR29YVeu",
        "colab_type": "code",
        "colab": {}
      },
      "source": [
        "#!pip install impyute\n",
        "from impyute.imputation.cs import mice\n",
        "\n",
        "# start the MICE training\n",
        "\n",
        "imputed_training_mice=mice(train_features_cnn.astype(float))\n",
        "\n",
        "#(array([ 0,  2,  4,  6,  8, 10, 12, 14, 20, 22, 24]), array([   0,  210, 1652, 1643, 1636, 1620, 1866, 1747, 2153, 2284, 2289]), array([2140,   87,   28,    9,    8,    3,    5,    2,    2, 4755,   10]))"
      ],
      "execution_count": 0,
      "outputs": []
    },
    {
      "cell_type": "code",
      "metadata": {
        "colab_type": "code",
        "id": "W2fvKlspxrUP",
        "colab": {}
      },
      "source": [
        "image=2284; plot_test_single(train_features_cnn[image],train_images_cnn[image], image)\n",
        "\n",
        "\n",
        "\n",
        "\n",
        "#imputed1= np.array([image.astype(object) for image in imputed_training_mice])\n"
      ],
      "execution_count": 0,
      "outputs": []
    },
    {
      "cell_type": "code",
      "metadata": {
        "id": "iY5qGE4RA51G",
        "colab_type": "code",
        "colab": {}
      },
      "source": [
        "model_imputed=model"
      ],
      "execution_count": 0,
      "outputs": []
    },
    {
      "cell_type": "code",
      "metadata": {
        "colab_type": "code",
        "id": "wVX2nhJKX3Fn",
        "colab": {}
      },
      "source": [
        "\n",
        "Adam=optimizers.Adam(lr=0.001, beta_1=0.9, beta_2=0.999, epsilon=None, decay=0.0, amsgrad=False)\n",
        "\n",
        "\n",
        "file_checkpoint_name='face_model-adam-mse-0-lr005-mice.h5'\n",
        "\n",
        "\n",
        "model_imputed.compile(optimizer=Adam, loss=\"mean_squared_error\", metrics=['acc'])\n",
        "\n",
        "checkpointer = callbacks.ModelCheckpoint(filepath=file_checkpoint_name, verbose=1, save_best_only=True)\n",
        "\n",
        "epochs = 30\n",
        "\n",
        "history = model_imputed.fit(train_images_cnn, imputed1, validation_split=0.2, shuffle=True, epochs=epochs, batch_size=30, callbacks=[checkpointer], verbose=1)\n",
        "\n",
        "#files.download(file_checkpoint_name) "
      ],
      "execution_count": 0,
      "outputs": []
    },
    {
      "cell_type": "code",
      "metadata": {
        "id": "R7knNiK4YTCO",
        "colab_type": "code",
        "colab": {}
      },
      "source": [
        "predicted_points=model_imputed.predict(test_images_cnn[200].reshape(1,96,96,1), batch_size=1)\n",
        "_, train_mse = model_drop_na.evaluate(train_images_clean, train_features_clean, verbose=0)\n",
        "_, test_mse = model_drop_na.evaluate(train_images_cnn, train_features_cnn, verbose=0)\n",
        "plot_test_single(predicted_points[0],test_images_cnn[200], index)\n",
        "print('Train: %.3f, Test: %.3f' % (train_mse, test_mse))\n",
        "files.download(file_checkpoint_name) "
      ],
      "execution_count": 0,
      "outputs": []
    }
  ]
}